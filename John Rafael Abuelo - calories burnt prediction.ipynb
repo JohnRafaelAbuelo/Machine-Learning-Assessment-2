{
 "cells": [
  {
   "cell_type": "code",
   "execution_count": 3,
   "id": "15ae7def",
   "metadata": {
    "_cell_guid": "b1076dfc-b9ad-4769-8c92-a6c4dae69d19",
    "_uuid": "8f2839f25d086af736a60e9eeb907d3b93b6e0e5",
    "execution": {
     "iopub.execute_input": "2023-12-22T15:48:25.915247Z",
     "iopub.status.busy": "2023-12-22T15:48:25.913768Z",
     "iopub.status.idle": "2023-12-22T15:48:28.529723Z",
     "shell.execute_reply": "2023-12-22T15:48:28.528497Z"
    },
    "papermill": {
     "duration": 2.637835,
     "end_time": "2023-12-22T15:48:28.532826",
     "exception": false,
     "start_time": "2023-12-22T15:48:25.894991",
     "status": "completed"
    },
    "tags": []
   },
   "outputs": [],
   "source": [
    "import numpy as np #for numerical operations\n",
    "import pandas as pd #for data manipulation and analysis\n",
    "import matplotlib.pyplot as plt #for data visualization\n",
    "import seaborn as sns #for statistical data visualization\n",
    "from sklearn.model_selection import train_test_split  #for splitting the dataset\n",
    "from xgboost import XGBRegressor  #gradient boosting library\n",
    "from sklearn import metrics #for model evaluation\n",
    "from sklearn.model_selection import GridSearchCV #for hyperparameter tuning\n"
   ]
  },
  {
   "cell_type": "markdown",
   "id": "d81f8d11",
   "metadata": {
    "papermill": {
     "duration": 0.015217,
     "end_time": "2023-12-22T15:48:28.563984",
     "exception": false,
     "start_time": "2023-12-22T15:48:28.548767",
     "status": "completed"
    },
    "tags": []
   },
   "source": [
    "# Data collection and Preprocessing"
   ]
  },
  {
   "cell_type": "code",
   "execution_count": 4,
   "id": "f1145f40",
   "metadata": {
    "execution": {
     "iopub.execute_input": "2023-12-22T15:48:28.598254Z",
     "iopub.status.busy": "2023-12-22T15:48:28.597630Z",
     "iopub.status.idle": "2023-12-22T15:48:28.631433Z",
     "shell.execute_reply": "2023-12-22T15:48:28.630537Z"
    },
    "papermill": {
     "duration": 0.054669,
     "end_time": "2023-12-22T15:48:28.634299",
     "exception": false,
     "start_time": "2023-12-22T15:48:28.579630",
     "status": "completed"
    },
    "tags": []
   },
   "outputs": [],
   "source": [
    "#loading the data from csv file to pandas data frame\n",
    "calories=pd.read_csv('calories.csv')\n"
   ]
  },
  {
   "cell_type": "code",
   "execution_count": 5,
   "id": "bd7ae6b3",
   "metadata": {
    "execution": {
     "iopub.execute_input": "2023-12-22T15:48:28.670726Z",
     "iopub.status.busy": "2023-12-22T15:48:28.669868Z",
     "iopub.status.idle": "2023-12-22T15:48:28.677024Z",
     "shell.execute_reply": "2023-12-22T15:48:28.675394Z"
    },
    "papermill": {
     "duration": 0.030718,
     "end_time": "2023-12-22T15:48:28.680645",
     "exception": false,
     "start_time": "2023-12-22T15:48:28.649927",
     "status": "completed"
    },
    "tags": []
   },
   "outputs": [
    {
     "name": "stdout",
     "output_type": "stream",
     "text": [
      "(15000, 2)\n"
     ]
    }
   ],
   "source": [
    "print(calories.shape) #printing data shape"
   ]
  },
  {
   "cell_type": "code",
   "execution_count": 6,
   "id": "009fb0c3",
   "metadata": {
    "execution": {
     "iopub.execute_input": "2023-12-22T15:48:28.715100Z",
     "iopub.status.busy": "2023-12-22T15:48:28.714210Z",
     "iopub.status.idle": "2023-12-22T15:48:28.738811Z",
     "shell.execute_reply": "2023-12-22T15:48:28.737620Z"
    },
    "papermill": {
     "duration": 0.044563,
     "end_time": "2023-12-22T15:48:28.741407",
     "exception": false,
     "start_time": "2023-12-22T15:48:28.696844",
     "status": "completed"
    },
    "tags": []
   },
   "outputs": [
    {
     "data": {
      "text/html": [
       "<div>\n",
       "<style scoped>\n",
       "    .dataframe tbody tr th:only-of-type {\n",
       "        vertical-align: middle;\n",
       "    }\n",
       "\n",
       "    .dataframe tbody tr th {\n",
       "        vertical-align: top;\n",
       "    }\n",
       "\n",
       "    .dataframe thead th {\n",
       "        text-align: right;\n",
       "    }\n",
       "</style>\n",
       "<table border=\"1\" class=\"dataframe\">\n",
       "  <thead>\n",
       "    <tr style=\"text-align: right;\">\n",
       "      <th></th>\n",
       "      <th>User_ID</th>\n",
       "      <th>Calories</th>\n",
       "    </tr>\n",
       "  </thead>\n",
       "  <tbody>\n",
       "    <tr>\n",
       "      <th>0</th>\n",
       "      <td>14733363</td>\n",
       "      <td>231.0</td>\n",
       "    </tr>\n",
       "    <tr>\n",
       "      <th>1</th>\n",
       "      <td>14861698</td>\n",
       "      <td>66.0</td>\n",
       "    </tr>\n",
       "    <tr>\n",
       "      <th>2</th>\n",
       "      <td>11179863</td>\n",
       "      <td>26.0</td>\n",
       "    </tr>\n",
       "    <tr>\n",
       "      <th>3</th>\n",
       "      <td>16180408</td>\n",
       "      <td>71.0</td>\n",
       "    </tr>\n",
       "    <tr>\n",
       "      <th>4</th>\n",
       "      <td>17771927</td>\n",
       "      <td>35.0</td>\n",
       "    </tr>\n",
       "  </tbody>\n",
       "</table>\n",
       "</div>"
      ],
      "text/plain": [
       "    User_ID  Calories\n",
       "0  14733363     231.0\n",
       "1  14861698      66.0\n",
       "2  11179863      26.0\n",
       "3  16180408      71.0\n",
       "4  17771927      35.0"
      ]
     },
     "execution_count": 6,
     "metadata": {},
     "output_type": "execute_result"
    }
   ],
   "source": [
    "calories.head() #printing data head"
   ]
  },
  {
   "cell_type": "code",
   "execution_count": 7,
   "id": "fa6670fc",
   "metadata": {
    "execution": {
     "iopub.execute_input": "2023-12-22T15:48:28.777142Z",
     "iopub.status.busy": "2023-12-22T15:48:28.776427Z",
     "iopub.status.idle": "2023-12-22T15:48:28.826081Z",
     "shell.execute_reply": "2023-12-22T15:48:28.824459Z"
    },
    "papermill": {
     "duration": 0.070378,
     "end_time": "2023-12-22T15:48:28.829131",
     "exception": false,
     "start_time": "2023-12-22T15:48:28.758753",
     "status": "completed"
    },
    "tags": []
   },
   "outputs": [],
   "source": [
    "excercise=pd.read_csv('exercise.csv') #reading exercise dataset"
   ]
  },
  {
   "cell_type": "code",
   "execution_count": 8,
   "id": "3fc47565",
   "metadata": {
    "execution": {
     "iopub.execute_input": "2023-12-22T15:48:28.864347Z",
     "iopub.status.busy": "2023-12-22T15:48:28.863433Z",
     "iopub.status.idle": "2023-12-22T15:48:28.870264Z",
     "shell.execute_reply": "2023-12-22T15:48:28.869471Z"
    },
    "papermill": {
     "duration": 0.026915,
     "end_time": "2023-12-22T15:48:28.872728",
     "exception": false,
     "start_time": "2023-12-22T15:48:28.845813",
     "status": "completed"
    },
    "tags": []
   },
   "outputs": [
    {
     "data": {
      "text/plain": [
       "(15000, 8)"
      ]
     },
     "execution_count": 8,
     "metadata": {},
     "output_type": "execute_result"
    }
   ],
   "source": [
    "excercise.shape #printing data shape"
   ]
  },
  {
   "cell_type": "code",
   "execution_count": 9,
   "id": "11fb355e",
   "metadata": {
    "execution": {
     "iopub.execute_input": "2023-12-22T15:48:28.907778Z",
     "iopub.status.busy": "2023-12-22T15:48:28.907249Z",
     "iopub.status.idle": "2023-12-22T15:48:28.926988Z",
     "shell.execute_reply": "2023-12-22T15:48:28.925812Z"
    },
    "papermill": {
     "duration": 0.0411,
     "end_time": "2023-12-22T15:48:28.929906",
     "exception": false,
     "start_time": "2023-12-22T15:48:28.888806",
     "status": "completed"
    },
    "tags": []
   },
   "outputs": [
    {
     "data": {
      "text/html": [
       "<div>\n",
       "<style scoped>\n",
       "    .dataframe tbody tr th:only-of-type {\n",
       "        vertical-align: middle;\n",
       "    }\n",
       "\n",
       "    .dataframe tbody tr th {\n",
       "        vertical-align: top;\n",
       "    }\n",
       "\n",
       "    .dataframe thead th {\n",
       "        text-align: right;\n",
       "    }\n",
       "</style>\n",
       "<table border=\"1\" class=\"dataframe\">\n",
       "  <thead>\n",
       "    <tr style=\"text-align: right;\">\n",
       "      <th></th>\n",
       "      <th>User_ID</th>\n",
       "      <th>Gender</th>\n",
       "      <th>Age</th>\n",
       "      <th>Height</th>\n",
       "      <th>Weight</th>\n",
       "      <th>Duration</th>\n",
       "      <th>Heart_Rate</th>\n",
       "      <th>Body_Temp</th>\n",
       "    </tr>\n",
       "  </thead>\n",
       "  <tbody>\n",
       "    <tr>\n",
       "      <th>0</th>\n",
       "      <td>14733363</td>\n",
       "      <td>male</td>\n",
       "      <td>68</td>\n",
       "      <td>190.0</td>\n",
       "      <td>94.0</td>\n",
       "      <td>29.0</td>\n",
       "      <td>105.0</td>\n",
       "      <td>40.8</td>\n",
       "    </tr>\n",
       "    <tr>\n",
       "      <th>1</th>\n",
       "      <td>14861698</td>\n",
       "      <td>female</td>\n",
       "      <td>20</td>\n",
       "      <td>166.0</td>\n",
       "      <td>60.0</td>\n",
       "      <td>14.0</td>\n",
       "      <td>94.0</td>\n",
       "      <td>40.3</td>\n",
       "    </tr>\n",
       "    <tr>\n",
       "      <th>2</th>\n",
       "      <td>11179863</td>\n",
       "      <td>male</td>\n",
       "      <td>69</td>\n",
       "      <td>179.0</td>\n",
       "      <td>79.0</td>\n",
       "      <td>5.0</td>\n",
       "      <td>88.0</td>\n",
       "      <td>38.7</td>\n",
       "    </tr>\n",
       "    <tr>\n",
       "      <th>3</th>\n",
       "      <td>16180408</td>\n",
       "      <td>female</td>\n",
       "      <td>34</td>\n",
       "      <td>179.0</td>\n",
       "      <td>71.0</td>\n",
       "      <td>13.0</td>\n",
       "      <td>100.0</td>\n",
       "      <td>40.5</td>\n",
       "    </tr>\n",
       "    <tr>\n",
       "      <th>4</th>\n",
       "      <td>17771927</td>\n",
       "      <td>female</td>\n",
       "      <td>27</td>\n",
       "      <td>154.0</td>\n",
       "      <td>58.0</td>\n",
       "      <td>10.0</td>\n",
       "      <td>81.0</td>\n",
       "      <td>39.8</td>\n",
       "    </tr>\n",
       "  </tbody>\n",
       "</table>\n",
       "</div>"
      ],
      "text/plain": [
       "    User_ID  Gender  Age  Height  Weight  Duration  Heart_Rate  Body_Temp\n",
       "0  14733363    male   68   190.0    94.0      29.0       105.0       40.8\n",
       "1  14861698  female   20   166.0    60.0      14.0        94.0       40.3\n",
       "2  11179863    male   69   179.0    79.0       5.0        88.0       38.7\n",
       "3  16180408  female   34   179.0    71.0      13.0       100.0       40.5\n",
       "4  17771927  female   27   154.0    58.0      10.0        81.0       39.8"
      ]
     },
     "execution_count": 9,
     "metadata": {},
     "output_type": "execute_result"
    }
   ],
   "source": [
    "excercise.head() #printing data head"
   ]
  },
  {
   "cell_type": "markdown",
   "id": "a5b500f2",
   "metadata": {
    "papermill": {
     "duration": 0.017331,
     "end_time": "2023-12-22T15:48:28.963733",
     "exception": false,
     "start_time": "2023-12-22T15:48:28.946402",
     "status": "completed"
    },
    "tags": []
   },
   "source": [
    "# Combining the two data frames"
   ]
  },
  {
   "cell_type": "code",
   "execution_count": 10,
   "id": "7b58538b",
   "metadata": {
    "execution": {
     "iopub.execute_input": "2023-12-22T15:48:28.999769Z",
     "iopub.status.busy": "2023-12-22T15:48:28.999321Z",
     "iopub.status.idle": "2023-12-22T15:48:29.008140Z",
     "shell.execute_reply": "2023-12-22T15:48:29.006813Z"
    },
    "papermill": {
     "duration": 0.029151,
     "end_time": "2023-12-22T15:48:29.010806",
     "exception": false,
     "start_time": "2023-12-22T15:48:28.981655",
     "status": "completed"
    },
    "tags": []
   },
   "outputs": [],
   "source": [
    "calories_data=pd.concat([excercise,calories['Calories']],axis=1) #combining data frames"
   ]
  },
  {
   "cell_type": "code",
   "execution_count": 11,
   "id": "50a07bee",
   "metadata": {
    "execution": {
     "iopub.execute_input": "2023-12-22T15:48:29.045637Z",
     "iopub.status.busy": "2023-12-22T15:48:29.044572Z",
     "iopub.status.idle": "2023-12-22T15:48:29.064036Z",
     "shell.execute_reply": "2023-12-22T15:48:29.063194Z"
    },
    "papermill": {
     "duration": 0.039083,
     "end_time": "2023-12-22T15:48:29.066207",
     "exception": false,
     "start_time": "2023-12-22T15:48:29.027124",
     "status": "completed"
    },
    "tags": []
   },
   "outputs": [
    {
     "data": {
      "text/html": [
       "<div>\n",
       "<style scoped>\n",
       "    .dataframe tbody tr th:only-of-type {\n",
       "        vertical-align: middle;\n",
       "    }\n",
       "\n",
       "    .dataframe tbody tr th {\n",
       "        vertical-align: top;\n",
       "    }\n",
       "\n",
       "    .dataframe thead th {\n",
       "        text-align: right;\n",
       "    }\n",
       "</style>\n",
       "<table border=\"1\" class=\"dataframe\">\n",
       "  <thead>\n",
       "    <tr style=\"text-align: right;\">\n",
       "      <th></th>\n",
       "      <th>User_ID</th>\n",
       "      <th>Gender</th>\n",
       "      <th>Age</th>\n",
       "      <th>Height</th>\n",
       "      <th>Weight</th>\n",
       "      <th>Duration</th>\n",
       "      <th>Heart_Rate</th>\n",
       "      <th>Body_Temp</th>\n",
       "      <th>Calories</th>\n",
       "    </tr>\n",
       "  </thead>\n",
       "  <tbody>\n",
       "    <tr>\n",
       "      <th>0</th>\n",
       "      <td>14733363</td>\n",
       "      <td>male</td>\n",
       "      <td>68</td>\n",
       "      <td>190.0</td>\n",
       "      <td>94.0</td>\n",
       "      <td>29.0</td>\n",
       "      <td>105.0</td>\n",
       "      <td>40.8</td>\n",
       "      <td>231.0</td>\n",
       "    </tr>\n",
       "    <tr>\n",
       "      <th>1</th>\n",
       "      <td>14861698</td>\n",
       "      <td>female</td>\n",
       "      <td>20</td>\n",
       "      <td>166.0</td>\n",
       "      <td>60.0</td>\n",
       "      <td>14.0</td>\n",
       "      <td>94.0</td>\n",
       "      <td>40.3</td>\n",
       "      <td>66.0</td>\n",
       "    </tr>\n",
       "    <tr>\n",
       "      <th>2</th>\n",
       "      <td>11179863</td>\n",
       "      <td>male</td>\n",
       "      <td>69</td>\n",
       "      <td>179.0</td>\n",
       "      <td>79.0</td>\n",
       "      <td>5.0</td>\n",
       "      <td>88.0</td>\n",
       "      <td>38.7</td>\n",
       "      <td>26.0</td>\n",
       "    </tr>\n",
       "    <tr>\n",
       "      <th>3</th>\n",
       "      <td>16180408</td>\n",
       "      <td>female</td>\n",
       "      <td>34</td>\n",
       "      <td>179.0</td>\n",
       "      <td>71.0</td>\n",
       "      <td>13.0</td>\n",
       "      <td>100.0</td>\n",
       "      <td>40.5</td>\n",
       "      <td>71.0</td>\n",
       "    </tr>\n",
       "    <tr>\n",
       "      <th>4</th>\n",
       "      <td>17771927</td>\n",
       "      <td>female</td>\n",
       "      <td>27</td>\n",
       "      <td>154.0</td>\n",
       "      <td>58.0</td>\n",
       "      <td>10.0</td>\n",
       "      <td>81.0</td>\n",
       "      <td>39.8</td>\n",
       "      <td>35.0</td>\n",
       "    </tr>\n",
       "  </tbody>\n",
       "</table>\n",
       "</div>"
      ],
      "text/plain": [
       "    User_ID  Gender  Age  Height  Weight  Duration  Heart_Rate  Body_Temp  \\\n",
       "0  14733363    male   68   190.0    94.0      29.0       105.0       40.8   \n",
       "1  14861698  female   20   166.0    60.0      14.0        94.0       40.3   \n",
       "2  11179863    male   69   179.0    79.0       5.0        88.0       38.7   \n",
       "3  16180408  female   34   179.0    71.0      13.0       100.0       40.5   \n",
       "4  17771927  female   27   154.0    58.0      10.0        81.0       39.8   \n",
       "\n",
       "   Calories  \n",
       "0     231.0  \n",
       "1      66.0  \n",
       "2      26.0  \n",
       "3      71.0  \n",
       "4      35.0  "
      ]
     },
     "execution_count": 11,
     "metadata": {},
     "output_type": "execute_result"
    }
   ],
   "source": [
    "calories_data.head() #printing data head"
   ]
  },
  {
   "cell_type": "code",
   "execution_count": 12,
   "id": "17615a03",
   "metadata": {
    "execution": {
     "iopub.execute_input": "2023-12-22T15:48:29.167549Z",
     "iopub.status.busy": "2023-12-22T15:48:29.166758Z",
     "iopub.status.idle": "2023-12-22T15:48:29.173010Z",
     "shell.execute_reply": "2023-12-22T15:48:29.171848Z"
    },
    "papermill": {
     "duration": 0.092114,
     "end_time": "2023-12-22T15:48:29.175301",
     "exception": false,
     "start_time": "2023-12-22T15:48:29.083187",
     "status": "completed"
    },
    "tags": []
   },
   "outputs": [
    {
     "data": {
      "text/plain": [
       "(15000, 9)"
      ]
     },
     "execution_count": 12,
     "metadata": {},
     "output_type": "execute_result"
    }
   ],
   "source": [
    "calories_data.shape #printing data shape"
   ]
  },
  {
   "cell_type": "code",
   "execution_count": 13,
   "id": "3f4f5327",
   "metadata": {
    "execution": {
     "iopub.execute_input": "2023-12-22T15:48:29.211886Z",
     "iopub.status.busy": "2023-12-22T15:48:29.211072Z",
     "iopub.status.idle": "2023-12-22T15:48:29.241051Z",
     "shell.execute_reply": "2023-12-22T15:48:29.239837Z"
    },
    "papermill": {
     "duration": 0.051691,
     "end_time": "2023-12-22T15:48:29.243794",
     "exception": false,
     "start_time": "2023-12-22T15:48:29.192103",
     "status": "completed"
    },
    "tags": []
   },
   "outputs": [
    {
     "name": "stdout",
     "output_type": "stream",
     "text": [
      "<class 'pandas.core.frame.DataFrame'>\n",
      "RangeIndex: 15000 entries, 0 to 14999\n",
      "Data columns (total 9 columns):\n",
      " #   Column      Non-Null Count  Dtype  \n",
      "---  ------      --------------  -----  \n",
      " 0   User_ID     15000 non-null  int64  \n",
      " 1   Gender      15000 non-null  object \n",
      " 2   Age         15000 non-null  int64  \n",
      " 3   Height      15000 non-null  float64\n",
      " 4   Weight      15000 non-null  float64\n",
      " 5   Duration    15000 non-null  float64\n",
      " 6   Heart_Rate  15000 non-null  float64\n",
      " 7   Body_Temp   15000 non-null  float64\n",
      " 8   Calories    15000 non-null  float64\n",
      "dtypes: float64(6), int64(2), object(1)\n",
      "memory usage: 1.0+ MB\n"
     ]
    }
   ],
   "source": [
    "#accessing more information about the given dataset\n",
    "calories_data.info()"
   ]
  },
  {
   "cell_type": "code",
   "execution_count": 14,
   "id": "ea89b461",
   "metadata": {
    "execution": {
     "iopub.execute_input": "2023-12-22T15:48:29.281353Z",
     "iopub.status.busy": "2023-12-22T15:48:29.280285Z",
     "iopub.status.idle": "2023-12-22T15:48:29.292358Z",
     "shell.execute_reply": "2023-12-22T15:48:29.290827Z"
    },
    "papermill": {
     "duration": 0.034091,
     "end_time": "2023-12-22T15:48:29.295046",
     "exception": false,
     "start_time": "2023-12-22T15:48:29.260955",
     "status": "completed"
    },
    "tags": []
   },
   "outputs": [
    {
     "data": {
      "text/plain": [
       "User_ID       0\n",
       "Gender        0\n",
       "Age           0\n",
       "Height        0\n",
       "Weight        0\n",
       "Duration      0\n",
       "Heart_Rate    0\n",
       "Body_Temp     0\n",
       "Calories      0\n",
       "dtype: int64"
      ]
     },
     "execution_count": 14,
     "metadata": {},
     "output_type": "execute_result"
    }
   ],
   "source": [
    "#checking for missing values in the dataset\n",
    "\n",
    "calories_data.isnull().sum()"
   ]
  },
  {
   "cell_type": "code",
   "execution_count": 15,
   "id": "17c32ec0",
   "metadata": {
    "execution": {
     "iopub.execute_input": "2023-12-22T15:48:29.331881Z",
     "iopub.status.busy": "2023-12-22T15:48:29.331208Z",
     "iopub.status.idle": "2023-12-22T15:48:29.381327Z",
     "shell.execute_reply": "2023-12-22T15:48:29.379967Z"
    },
    "papermill": {
     "duration": 0.071954,
     "end_time": "2023-12-22T15:48:29.384312",
     "exception": false,
     "start_time": "2023-12-22T15:48:29.312358",
     "status": "completed"
    },
    "tags": []
   },
   "outputs": [
    {
     "data": {
      "text/html": [
       "<div>\n",
       "<style scoped>\n",
       "    .dataframe tbody tr th:only-of-type {\n",
       "        vertical-align: middle;\n",
       "    }\n",
       "\n",
       "    .dataframe tbody tr th {\n",
       "        vertical-align: top;\n",
       "    }\n",
       "\n",
       "    .dataframe thead th {\n",
       "        text-align: right;\n",
       "    }\n",
       "</style>\n",
       "<table border=\"1\" class=\"dataframe\">\n",
       "  <thead>\n",
       "    <tr style=\"text-align: right;\">\n",
       "      <th></th>\n",
       "      <th>User_ID</th>\n",
       "      <th>Age</th>\n",
       "      <th>Height</th>\n",
       "      <th>Weight</th>\n",
       "      <th>Duration</th>\n",
       "      <th>Heart_Rate</th>\n",
       "      <th>Body_Temp</th>\n",
       "      <th>Calories</th>\n",
       "    </tr>\n",
       "  </thead>\n",
       "  <tbody>\n",
       "    <tr>\n",
       "      <th>count</th>\n",
       "      <td>1.500000e+04</td>\n",
       "      <td>15000.000000</td>\n",
       "      <td>15000.000000</td>\n",
       "      <td>15000.000000</td>\n",
       "      <td>15000.000000</td>\n",
       "      <td>15000.000000</td>\n",
       "      <td>15000.000000</td>\n",
       "      <td>15000.000000</td>\n",
       "    </tr>\n",
       "    <tr>\n",
       "      <th>mean</th>\n",
       "      <td>1.497736e+07</td>\n",
       "      <td>42.789800</td>\n",
       "      <td>174.465133</td>\n",
       "      <td>74.966867</td>\n",
       "      <td>15.530600</td>\n",
       "      <td>95.518533</td>\n",
       "      <td>40.025453</td>\n",
       "      <td>89.539533</td>\n",
       "    </tr>\n",
       "    <tr>\n",
       "      <th>std</th>\n",
       "      <td>2.872851e+06</td>\n",
       "      <td>16.980264</td>\n",
       "      <td>14.258114</td>\n",
       "      <td>15.035657</td>\n",
       "      <td>8.319203</td>\n",
       "      <td>9.583328</td>\n",
       "      <td>0.779230</td>\n",
       "      <td>62.456978</td>\n",
       "    </tr>\n",
       "    <tr>\n",
       "      <th>min</th>\n",
       "      <td>1.000116e+07</td>\n",
       "      <td>20.000000</td>\n",
       "      <td>123.000000</td>\n",
       "      <td>36.000000</td>\n",
       "      <td>1.000000</td>\n",
       "      <td>67.000000</td>\n",
       "      <td>37.100000</td>\n",
       "      <td>1.000000</td>\n",
       "    </tr>\n",
       "    <tr>\n",
       "      <th>25%</th>\n",
       "      <td>1.247419e+07</td>\n",
       "      <td>28.000000</td>\n",
       "      <td>164.000000</td>\n",
       "      <td>63.000000</td>\n",
       "      <td>8.000000</td>\n",
       "      <td>88.000000</td>\n",
       "      <td>39.600000</td>\n",
       "      <td>35.000000</td>\n",
       "    </tr>\n",
       "    <tr>\n",
       "      <th>50%</th>\n",
       "      <td>1.499728e+07</td>\n",
       "      <td>39.000000</td>\n",
       "      <td>175.000000</td>\n",
       "      <td>74.000000</td>\n",
       "      <td>16.000000</td>\n",
       "      <td>96.000000</td>\n",
       "      <td>40.200000</td>\n",
       "      <td>79.000000</td>\n",
       "    </tr>\n",
       "    <tr>\n",
       "      <th>75%</th>\n",
       "      <td>1.744928e+07</td>\n",
       "      <td>56.000000</td>\n",
       "      <td>185.000000</td>\n",
       "      <td>87.000000</td>\n",
       "      <td>23.000000</td>\n",
       "      <td>103.000000</td>\n",
       "      <td>40.600000</td>\n",
       "      <td>138.000000</td>\n",
       "    </tr>\n",
       "    <tr>\n",
       "      <th>max</th>\n",
       "      <td>1.999965e+07</td>\n",
       "      <td>79.000000</td>\n",
       "      <td>222.000000</td>\n",
       "      <td>132.000000</td>\n",
       "      <td>30.000000</td>\n",
       "      <td>128.000000</td>\n",
       "      <td>41.500000</td>\n",
       "      <td>314.000000</td>\n",
       "    </tr>\n",
       "  </tbody>\n",
       "</table>\n",
       "</div>"
      ],
      "text/plain": [
       "            User_ID           Age        Height        Weight      Duration  \\\n",
       "count  1.500000e+04  15000.000000  15000.000000  15000.000000  15000.000000   \n",
       "mean   1.497736e+07     42.789800    174.465133     74.966867     15.530600   \n",
       "std    2.872851e+06     16.980264     14.258114     15.035657      8.319203   \n",
       "min    1.000116e+07     20.000000    123.000000     36.000000      1.000000   \n",
       "25%    1.247419e+07     28.000000    164.000000     63.000000      8.000000   \n",
       "50%    1.499728e+07     39.000000    175.000000     74.000000     16.000000   \n",
       "75%    1.744928e+07     56.000000    185.000000     87.000000     23.000000   \n",
       "max    1.999965e+07     79.000000    222.000000    132.000000     30.000000   \n",
       "\n",
       "         Heart_Rate     Body_Temp      Calories  \n",
       "count  15000.000000  15000.000000  15000.000000  \n",
       "mean      95.518533     40.025453     89.539533  \n",
       "std        9.583328      0.779230     62.456978  \n",
       "min       67.000000     37.100000      1.000000  \n",
       "25%       88.000000     39.600000     35.000000  \n",
       "50%       96.000000     40.200000     79.000000  \n",
       "75%      103.000000     40.600000    138.000000  \n",
       "max      128.000000     41.500000    314.000000  "
      ]
     },
     "execution_count": 15,
     "metadata": {},
     "output_type": "execute_result"
    }
   ],
   "source": [
    "#Data Analysis- statistical methods\n",
    "\n",
    "calories_data.describe()"
   ]
  },
  {
   "cell_type": "markdown",
   "id": "75002354",
   "metadata": {
    "papermill": {
     "duration": 0.017383,
     "end_time": "2023-12-22T15:48:29.420292",
     "exception": false,
     "start_time": "2023-12-22T15:48:29.402909",
     "status": "completed"
    },
    "tags": []
   },
   "source": [
    "# Data Visualisation"
   ]
  },
  {
   "cell_type": "code",
   "execution_count": 16,
   "id": "57107f6c",
   "metadata": {
    "execution": {
     "iopub.execute_input": "2023-12-22T15:48:29.457865Z",
     "iopub.status.busy": "2023-12-22T15:48:29.457396Z",
     "iopub.status.idle": "2023-12-22T15:48:29.463516Z",
     "shell.execute_reply": "2023-12-22T15:48:29.462268Z"
    },
    "papermill": {
     "duration": 0.028243,
     "end_time": "2023-12-22T15:48:29.466071",
     "exception": false,
     "start_time": "2023-12-22T15:48:29.437828",
     "status": "completed"
    },
    "tags": []
   },
   "outputs": [],
   "source": [
    "sns.set()"
   ]
  },
  {
   "cell_type": "code",
   "execution_count": 17,
   "id": "946f53b9",
   "metadata": {
    "execution": {
     "iopub.execute_input": "2023-12-22T15:48:29.506473Z",
     "iopub.status.busy": "2023-12-22T15:48:29.505628Z",
     "iopub.status.idle": "2023-12-22T15:48:29.855024Z",
     "shell.execute_reply": "2023-12-22T15:48:29.853539Z"
    },
    "papermill": {
     "duration": 0.373009,
     "end_time": "2023-12-22T15:48:29.858608",
     "exception": false,
     "start_time": "2023-12-22T15:48:29.485599",
     "status": "completed"
    },
    "tags": []
   },
   "outputs": [
    {
     "data": {
      "text/plain": [
       "<AxesSubplot: xlabel='Gender', ylabel='count'>"
      ]
     },
     "execution_count": 17,
     "metadata": {},
     "output_type": "execute_result"
    },
    {
     "data": {
      "image/png": "[encoded data removed]",
      "text/plain": [
       "<Figure size 640x480 with 1 Axes>"
      ]
     },
     "metadata": {},
     "output_type": "display_data"
    }
   ],
   "source": [
    "#plotting gender column to number of males and females using a plot chart\n",
    "\n",
    "sns.countplot(calories_data,x='Gender')"
   ]
  },
  {
   "cell_type": "code",
   "execution_count": 18,
   "id": "18eefeab",
   "metadata": {
    "execution": {
     "iopub.execute_input": "2023-12-22T15:48:29.897532Z",
     "iopub.status.busy": "2023-12-22T15:48:29.896781Z",
     "iopub.status.idle": "2023-12-22T15:48:30.598842Z",
     "shell.execute_reply": "2023-12-22T15:48:30.597002Z"
    },
    "papermill": {
     "duration": 0.725992,
     "end_time": "2023-12-22T15:48:30.602995",
     "exception": false,
     "start_time": "2023-12-22T15:48:29.877003",
     "status": "completed"
    },
    "tags": []
   },
   "outputs": [
    {
     "name": "stderr",
     "output_type": "stream",
     "text": [
      "/var/folders/wz/97qxnv5j30sdd4tb7xpnl88h0000gn/T/ipykernel_83640/3367991676.py:2: UserWarning: \n",
      "\n",
      "`distplot` is a deprecated function and will be removed in seaborn v0.14.0.\n",
      "\n",
      "Please adapt your code to use either `displot` (a figure-level function with\n",
      "similar flexibility) or `histplot` (an axes-level function for histograms).\n",
      "\n",
      "For a guide to updating your code to use the new functions, please see\n",
      "https://gist.github.com/mwaskom/de44147ed2974457ad6372750bbe5751\n",
      "\n",
      "  sns.distplot(calories_data['Age'])\n",
      "/Library/Frameworks/Python.framework/Versions/3.10/lib/python3.10/site-packages/seaborn/_oldcore.py:1119: FutureWarning: use_inf_as_na option is deprecated and will be removed in a future version. Convert inf values to NaN before operating instead.\n",
      "  with pd.option_context('mode.use_inf_as_na', True):\n"
     ]
    },
    {
     "data": {
      "text/plain": [
       "<AxesSubplot: xlabel='Age', ylabel='Density'>"
      ]
     },
     "execution_count": 18,
     "metadata": {},
     "output_type": "execute_result"
    },
    {
     "data": {
      "image/png": "[encoded data removed]",
      "text/plain": [
       "<Figure size 640x480 with 1 Axes>"
      ]
     },
     "metadata": {},
     "output_type": "display_data"
    }
   ],
   "source": [
    "#finding the distribution of \"Age\" column within the dataset\n",
    "sns.distplot(calories_data['Age'])"
   ]
  },
  {
   "cell_type": "code",
   "execution_count": 19,
   "id": "d6d0d46e",
   "metadata": {
    "execution": {
     "iopub.execute_input": "2023-12-22T15:48:30.646029Z",
     "iopub.status.busy": "2023-12-22T15:48:30.644843Z",
     "iopub.status.idle": "2023-12-22T15:48:31.481199Z",
     "shell.execute_reply": "2023-12-22T15:48:31.479957Z"
    },
    "papermill": {
     "duration": 0.860348,
     "end_time": "2023-12-22T15:48:31.484504",
     "exception": false,
     "start_time": "2023-12-22T15:48:30.624156",
     "status": "completed"
    },
    "tags": []
   },
   "outputs": [
    {
     "name": "stderr",
     "output_type": "stream",
     "text": [
      "/Library/Frameworks/Python.framework/Versions/3.10/lib/python3.10/site-packages/seaborn/_oldcore.py:1119: FutureWarning: use_inf_as_na option is deprecated and will be removed in a future version. Convert inf values to NaN before operating instead.\n",
      "  with pd.option_context('mode.use_inf_as_na', True):\n"
     ]
    },
    {
     "data": {
      "text/plain": [
       "<seaborn.axisgrid.FacetGrid at 0x1366acaf0>"
      ]
     },
     "execution_count": 19,
     "metadata": {},
     "output_type": "execute_result"
    },
    {
     "data": {
      "image/png": "[encoded data removed]",
      "text/plain": [
       "<Figure size 500x500 with 1 Axes>"
      ]
     },
     "metadata": {},
     "output_type": "display_data"
    }
   ],
   "source": [
    "sns.displot(calories_data['Age']) #creating distribution chart for correlations"
   ]
  },
  {
   "cell_type": "code",
   "execution_count": 20,
   "id": "0e306b40",
   "metadata": {
    "execution": {
     "iopub.execute_input": "2023-12-22T15:48:31.527402Z",
     "iopub.status.busy": "2023-12-22T15:48:31.526720Z",
     "iopub.status.idle": "2023-12-22T15:48:32.114207Z",
     "shell.execute_reply": "2023-12-22T15:48:32.113006Z"
    },
    "papermill": {
     "duration": 0.612577,
     "end_time": "2023-12-22T15:48:32.117159",
     "exception": false,
     "start_time": "2023-12-22T15:48:31.504582",
     "status": "completed"
    },
    "tags": []
   },
   "outputs": [
    {
     "name": "stderr",
     "output_type": "stream",
     "text": [
      "/Library/Frameworks/Python.framework/Versions/3.10/lib/python3.10/site-packages/seaborn/_oldcore.py:1119: FutureWarning: use_inf_as_na option is deprecated and will be removed in a future version. Convert inf values to NaN before operating instead.\n",
      "  with pd.option_context('mode.use_inf_as_na', True):\n"
     ]
    },
    {
     "data": {
      "text/plain": [
       "<AxesSubplot: xlabel='Age', ylabel='Count'>"
      ]
     },
     "execution_count": 20,
     "metadata": {},
     "output_type": "execute_result"
    },
    {
     "data": {
      "image/png": "[encoded data removed]",
      "text/plain": [
       "<Figure size 640x480 with 1 Axes>"
      ]
     },
     "metadata": {},
     "output_type": "display_data"
    }
   ],
   "source": [
    "sns.histplot(calories_data['Age']) #creating a histogram for correlations between variables"
   ]
  },
  {
   "cell_type": "code",
   "execution_count": 21,
   "id": "fe58bcd8",
   "metadata": {
    "execution": {
     "iopub.execute_input": "2023-12-22T15:48:32.163505Z",
     "iopub.status.busy": "2023-12-22T15:48:32.162245Z",
     "iopub.status.idle": "2023-12-22T15:48:32.891061Z",
     "shell.execute_reply": "2023-12-22T15:48:32.889539Z"
    },
    "papermill": {
     "duration": 0.75387,
     "end_time": "2023-12-22T15:48:32.894296",
     "exception": false,
     "start_time": "2023-12-22T15:48:32.140426",
     "status": "completed"
    },
    "tags": []
   },
   "outputs": [
    {
     "name": "stderr",
     "output_type": "stream",
     "text": [
      "/var/folders/wz/97qxnv5j30sdd4tb7xpnl88h0000gn/T/ipykernel_83640/178982985.py:2: UserWarning: \n",
      "\n",
      "`distplot` is a deprecated function and will be removed in seaborn v0.14.0.\n",
      "\n",
      "Please adapt your code to use either `displot` (a figure-level function with\n",
      "similar flexibility) or `histplot` (an axes-level function for histograms).\n",
      "\n",
      "For a guide to updating your code to use the new functions, please see\n",
      "https://gist.github.com/mwaskom/de44147ed2974457ad6372750bbe5751\n",
      "\n",
      "  sns.distplot(calories_data['Height'])\n",
      "/Library/Frameworks/Python.framework/Versions/3.10/lib/python3.10/site-packages/seaborn/_oldcore.py:1119: FutureWarning: use_inf_as_na option is deprecated and will be removed in a future version. Convert inf values to NaN before operating instead.\n",
      "  with pd.option_context('mode.use_inf_as_na', True):\n"
     ]
    },
    {
     "data": {
      "text/plain": [
       "<AxesSubplot: xlabel='Height', ylabel='Density'>"
      ]
     },
     "execution_count": 21,
     "metadata": {},
     "output_type": "execute_result"
    },
    {
     "data": {
      "image/png": "[encoded data removed]",
      "text/plain": [
       "<Figure size 640x480 with 1 Axes>"
      ]
     },
     "metadata": {},
     "output_type": "display_data"
    }
   ],
   "source": [
    "#finding the distribution of \"Height\" column within the dataset\n",
    "sns.distplot(calories_data['Height'])"
   ]
  },
  {
   "cell_type": "code",
   "execution_count": 22,
   "id": "0c6fecc1",
   "metadata": {
    "execution": {
     "iopub.execute_input": "2023-12-22T15:48:32.952123Z",
     "iopub.status.busy": "2023-12-22T15:48:32.951497Z",
     "iopub.status.idle": "2023-12-22T15:48:33.701804Z",
     "shell.execute_reply": "2023-12-22T15:48:33.700656Z"
    },
    "papermill": {
     "duration": 0.778849,
     "end_time": "2023-12-22T15:48:33.705691",
     "exception": false,
     "start_time": "2023-12-22T15:48:32.926842",
     "status": "completed"
    },
    "tags": []
   },
   "outputs": [
    {
     "name": "stderr",
     "output_type": "stream",
     "text": [
      "/var/folders/wz/97qxnv5j30sdd4tb7xpnl88h0000gn/T/ipykernel_83640/3057770523.py:2: UserWarning: \n",
      "\n",
      "`distplot` is a deprecated function and will be removed in seaborn v0.14.0.\n",
      "\n",
      "Please adapt your code to use either `displot` (a figure-level function with\n",
      "similar flexibility) or `histplot` (an axes-level function for histograms).\n",
      "\n",
      "For a guide to updating your code to use the new functions, please see\n",
      "https://gist.github.com/mwaskom/de44147ed2974457ad6372750bbe5751\n",
      "\n",
      "  sns.distplot(calories_data['Weight'])\n",
      "/Library/Frameworks/Python.framework/Versions/3.10/lib/python3.10/site-packages/seaborn/_oldcore.py:1119: FutureWarning: use_inf_as_na option is deprecated and will be removed in a future version. Convert inf values to NaN before operating instead.\n",
      "  with pd.option_context('mode.use_inf_as_na', True):\n"
     ]
    },
    {
     "data": {
      "text/plain": [
       "<AxesSubplot: xlabel='Weight', ylabel='Density'>"
      ]
     },
     "execution_count": 22,
     "metadata": {},
     "output_type": "execute_result"
    },
    {
     "data": {
      "image/png": "[encoded data removed]",
      "text/plain": [
       "<Figure size 640x480 with 1 Axes>"
      ]
     },
     "metadata": {},
     "output_type": "display_data"
    }
   ],
   "source": [
    "#finding the distribution of \"Weight\" column within the dataset\n",
    "sns.distplot(calories_data['Weight'])"
   ]
  },
  {
   "cell_type": "code",
   "execution_count": 23,
   "id": "eed3f1b1",
   "metadata": {
    "execution": {
     "iopub.execute_input": "2023-12-22T15:48:33.756400Z",
     "iopub.status.busy": "2023-12-22T15:48:33.755391Z",
     "iopub.status.idle": "2023-12-22T15:48:34.438794Z",
     "shell.execute_reply": "2023-12-22T15:48:34.437515Z"
    },
    "papermill": {
     "duration": 0.711018,
     "end_time": "2023-12-22T15:48:34.441749",
     "exception": false,
     "start_time": "2023-12-22T15:48:33.730731",
     "status": "completed"
    },
    "tags": []
   },
   "outputs": [
    {
     "name": "stderr",
     "output_type": "stream",
     "text": [
      "/var/folders/wz/97qxnv5j30sdd4tb7xpnl88h0000gn/T/ipykernel_83640/1910284300.py:2: UserWarning: \n",
      "\n",
      "`distplot` is a deprecated function and will be removed in seaborn v0.14.0.\n",
      "\n",
      "Please adapt your code to use either `displot` (a figure-level function with\n",
      "similar flexibility) or `histplot` (an axes-level function for histograms).\n",
      "\n",
      "For a guide to updating your code to use the new functions, please see\n",
      "https://gist.github.com/mwaskom/de44147ed2974457ad6372750bbe5751\n",
      "\n",
      "  sns.distplot(calories_data['Heart_Rate'])\n",
      "/Library/Frameworks/Python.framework/Versions/3.10/lib/python3.10/site-packages/seaborn/_oldcore.py:1119: FutureWarning: use_inf_as_na option is deprecated and will be removed in a future version. Convert inf values to NaN before operating instead.\n",
      "  with pd.option_context('mode.use_inf_as_na', True):\n"
     ]
    },
    {
     "data": {
      "text/plain": [
       "<AxesSubplot: xlabel='Heart_Rate', ylabel='Density'>"
      ]
     },
     "execution_count": 23,
     "metadata": {},
     "output_type": "execute_result"
    },
    {
     "data": {
      "image/png": "[encoded data removed]",
      "text/plain": [
       "<Figure size 640x480 with 1 Axes>"
      ]
     },
     "metadata": {},
     "output_type": "display_data"
    }
   ],
   "source": [
    "#finding the distribution of \"Heart-Rate\" column within the dataset\n",
    "sns.distplot(calories_data['Heart_Rate'])"
   ]
  },
  {
   "cell_type": "code",
   "execution_count": 24,
   "id": "e41d596a",
   "metadata": {
    "execution": {
     "iopub.execute_input": "2023-12-22T15:48:34.491715Z",
     "iopub.status.busy": "2023-12-22T15:48:34.490934Z",
     "iopub.status.idle": "2023-12-22T15:48:35.285402Z",
     "shell.execute_reply": "2023-12-22T15:48:35.283846Z"
    },
    "papermill": {
     "duration": 0.82221,
     "end_time": "2023-12-22T15:48:35.288186",
     "exception": false,
     "start_time": "2023-12-22T15:48:34.465976",
     "status": "completed"
    },
    "tags": []
   },
   "outputs": [
    {
     "name": "stderr",
     "output_type": "stream",
     "text": [
      "/Library/Frameworks/Python.framework/Versions/3.10/lib/python3.10/site-packages/seaborn/_oldcore.py:1119: FutureWarning: use_inf_as_na option is deprecated and will be removed in a future version. Convert inf values to NaN before operating instead.\n",
      "  with pd.option_context('mode.use_inf_as_na', True):\n"
     ]
    },
    {
     "data": {
      "text/plain": [
       "<seaborn.axisgrid.FacetGrid at 0x13928b6d0>"
      ]
     },
     "execution_count": 24,
     "metadata": {},
     "output_type": "execute_result"
    },
    {
     "data": {
      "image/png": "[encoded data removed]",
      "text/plain": [
       "<Figure size 500x500 with 1 Axes>"
      ]
     },
     "metadata": {},
     "output_type": "display_data"
    }
   ],
   "source": [
    "#finding the distribution of \"Duration\" column within the dataset\n",
    "sns.displot(calories_data['Duration'])"
   ]
  },
  {
   "cell_type": "code",
   "execution_count": 25,
   "id": "d091e08c",
   "metadata": {
    "execution": {
     "iopub.execute_input": "2023-12-22T15:48:35.339840Z",
     "iopub.status.busy": "2023-12-22T15:48:35.339364Z",
     "iopub.status.idle": "2023-12-22T15:48:35.352719Z",
     "shell.execute_reply": "2023-12-22T15:48:35.351393Z"
    },
    "papermill": {
     "duration": 0.042878,
     "end_time": "2023-12-22T15:48:35.355482",
     "exception": false,
     "start_time": "2023-12-22T15:48:35.312604",
     "status": "completed"
    },
    "tags": []
   },
   "outputs": [],
   "source": [
    "#one hot encoding the categorical data received\n",
    "\n",
    "calories_data['Gender']=pd.Categorical(calories_data['Gender'])\n",
    "calories_data_encoded=pd.get_dummies(calories_data,columns=['Gender'])"
   ]
  },
  {
   "cell_type": "code",
   "execution_count": 26,
   "id": "71f12419",
   "metadata": {
    "execution": {
     "iopub.execute_input": "2023-12-22T15:48:35.407154Z",
     "iopub.status.busy": "2023-12-22T15:48:35.406698Z",
     "iopub.status.idle": "2023-12-22T15:48:35.420675Z",
     "shell.execute_reply": "2023-12-22T15:48:35.419743Z"
    },
    "papermill": {
     "duration": 0.042797,
     "end_time": "2023-12-22T15:48:35.423321",
     "exception": false,
     "start_time": "2023-12-22T15:48:35.380524",
     "status": "completed"
    },
    "tags": []
   },
   "outputs": [],
   "source": [
    "correlation_matrix=calories_data_encoded.corr()"
   ]
  },
  {
   "cell_type": "code",
   "execution_count": 27,
   "id": "67ae8fa9",
   "metadata": {
    "execution": {
     "iopub.execute_input": "2023-12-22T15:48:35.473772Z",
     "iopub.status.busy": "2023-12-22T15:48:35.472985Z",
     "iopub.status.idle": "2023-12-22T15:48:36.560615Z",
     "shell.execute_reply": "2023-12-22T15:48:36.559681Z"
    },
    "papermill": {
     "duration": 1.116782,
     "end_time": "2023-12-22T15:48:36.564365",
     "exception": false,
     "start_time": "2023-12-22T15:48:35.447583",
     "status": "completed"
    },
    "tags": []
   },
   "outputs": [
    {
     "data": {
      "text/plain": [
       "<AxesSubplot: >"
      ]
     },
     "execution_count": 27,
     "metadata": {},
     "output_type": "execute_result"
    },
    {
     "data": {
      "image/png": "[encoded data removed]",
      "text/plain": [
       "<Figure size 1000x1000 with 2 Axes>"
      ]
     },
     "metadata": {},
     "output_type": "display_data"
    }
   ],
   "source": [
    "#constructing a heatmap to understsnad the correlation\n",
    "\n",
    "plt.figure(figsize=(10,10))\n",
    "sns.heatmap(correlation_matrix,cbar=True,square=True,fmt='.1f',annot=True,annot_kws={'size':8},cmap='Greens')"
   ]
  },
  {
   "cell_type": "code",
   "execution_count": 28,
   "id": "0e9126d6",
   "metadata": {
    "execution": {
     "iopub.execute_input": "2023-12-22T15:48:36.619585Z",
     "iopub.status.busy": "2023-12-22T15:48:36.619169Z",
     "iopub.status.idle": "2023-12-22T15:48:36.632817Z",
     "shell.execute_reply": "2023-12-22T15:48:36.631496Z"
    },
    "papermill": {
     "duration": 0.044451,
     "end_time": "2023-12-22T15:48:36.635846",
     "exception": false,
     "start_time": "2023-12-22T15:48:36.591395",
     "status": "completed"
    },
    "tags": []
   },
   "outputs": [],
   "source": [
    "#without categorical values\n",
    "\n",
    "calories_data['Gender'] = pd.Categorical(calories_data['Gender'])\n",
    "\n",
    "\n",
    "categorical_columns = calories_data.select_dtypes(include=['category']).columns\n",
    "\n",
    "#excluding categorical columns from correlation calculation\n",
    "numeric_columns = calories_data.drop(columns=categorical_columns)\n",
    "correlation = numeric_columns.corr()"
   ]
  },
  {
   "cell_type": "code",
   "execution_count": 29,
   "id": "eba83aa5",
   "metadata": {
    "execution": {
     "iopub.execute_input": "2023-12-22T15:48:36.690044Z",
     "iopub.status.busy": "2023-12-22T15:48:36.689580Z",
     "iopub.status.idle": "2023-12-22T15:48:37.472632Z",
     "shell.execute_reply": "2023-12-22T15:48:37.471332Z"
    },
    "papermill": {
     "duration": 0.81328,
     "end_time": "2023-12-22T15:48:37.475545",
     "exception": false,
     "start_time": "2023-12-22T15:48:36.662265",
     "status": "completed"
    },
    "tags": []
   },
   "outputs": [
    {
     "data": {
      "text/plain": [
       "<AxesSubplot: >"
      ]
     },
     "execution_count": 29,
     "metadata": {},
     "output_type": "execute_result"
    },
    {
     "data": {
      "image/png": "[encoded data removed]",
      "text/plain": [
       "<Figure size 1000x1000 with 2 Axes>"
      ]
     },
     "metadata": {},
     "output_type": "display_data"
    }
   ],
   "source": [
    "#constructing a heatmap to understsnad the correlation\n",
    "\n",
    "plt.figure(figsize=(10,10))\n",
    "sns.heatmap(correlation,cbar=True,square=True,fmt='.1f',annot=True,annot_kws={'size':8},cmap='Blues')"
   ]
  },
  {
   "cell_type": "code",
   "execution_count": 30,
   "id": "1d7a8bad",
   "metadata": {
    "execution": {
     "iopub.execute_input": "2023-12-22T15:48:37.530890Z",
     "iopub.status.busy": "2023-12-22T15:48:37.529968Z",
     "iopub.status.idle": "2023-12-22T15:48:37.552003Z",
     "shell.execute_reply": "2023-12-22T15:48:37.550687Z"
    },
    "papermill": {
     "duration": 0.052477,
     "end_time": "2023-12-22T15:48:37.554570",
     "exception": false,
     "start_time": "2023-12-22T15:48:37.502093",
     "status": "completed"
    },
    "tags": []
   },
   "outputs": [
    {
     "data": {
      "text/html": [
       "<div>\n",
       "<style scoped>\n",
       "    .dataframe tbody tr th:only-of-type {\n",
       "        vertical-align: middle;\n",
       "    }\n",
       "\n",
       "    .dataframe tbody tr th {\n",
       "        vertical-align: top;\n",
       "    }\n",
       "\n",
       "    .dataframe thead th {\n",
       "        text-align: right;\n",
       "    }\n",
       "</style>\n",
       "<table border=\"1\" class=\"dataframe\">\n",
       "  <thead>\n",
       "    <tr style=\"text-align: right;\">\n",
       "      <th></th>\n",
       "      <th>User_ID</th>\n",
       "      <th>Gender</th>\n",
       "      <th>Age</th>\n",
       "      <th>Height</th>\n",
       "      <th>Weight</th>\n",
       "      <th>Duration</th>\n",
       "      <th>Heart_Rate</th>\n",
       "      <th>Body_Temp</th>\n",
       "      <th>Calories</th>\n",
       "    </tr>\n",
       "  </thead>\n",
       "  <tbody>\n",
       "    <tr>\n",
       "      <th>0</th>\n",
       "      <td>14733363</td>\n",
       "      <td>male</td>\n",
       "      <td>68</td>\n",
       "      <td>190.0</td>\n",
       "      <td>94.0</td>\n",
       "      <td>29.0</td>\n",
       "      <td>105.0</td>\n",
       "      <td>40.8</td>\n",
       "      <td>231.0</td>\n",
       "    </tr>\n",
       "    <tr>\n",
       "      <th>1</th>\n",
       "      <td>14861698</td>\n",
       "      <td>female</td>\n",
       "      <td>20</td>\n",
       "      <td>166.0</td>\n",
       "      <td>60.0</td>\n",
       "      <td>14.0</td>\n",
       "      <td>94.0</td>\n",
       "      <td>40.3</td>\n",
       "      <td>66.0</td>\n",
       "    </tr>\n",
       "    <tr>\n",
       "      <th>2</th>\n",
       "      <td>11179863</td>\n",
       "      <td>male</td>\n",
       "      <td>69</td>\n",
       "      <td>179.0</td>\n",
       "      <td>79.0</td>\n",
       "      <td>5.0</td>\n",
       "      <td>88.0</td>\n",
       "      <td>38.7</td>\n",
       "      <td>26.0</td>\n",
       "    </tr>\n",
       "    <tr>\n",
       "      <th>3</th>\n",
       "      <td>16180408</td>\n",
       "      <td>female</td>\n",
       "      <td>34</td>\n",
       "      <td>179.0</td>\n",
       "      <td>71.0</td>\n",
       "      <td>13.0</td>\n",
       "      <td>100.0</td>\n",
       "      <td>40.5</td>\n",
       "      <td>71.0</td>\n",
       "    </tr>\n",
       "    <tr>\n",
       "      <th>4</th>\n",
       "      <td>17771927</td>\n",
       "      <td>female</td>\n",
       "      <td>27</td>\n",
       "      <td>154.0</td>\n",
       "      <td>58.0</td>\n",
       "      <td>10.0</td>\n",
       "      <td>81.0</td>\n",
       "      <td>39.8</td>\n",
       "      <td>35.0</td>\n",
       "    </tr>\n",
       "  </tbody>\n",
       "</table>\n",
       "</div>"
      ],
      "text/plain": [
       "    User_ID  Gender  Age  Height  Weight  Duration  Heart_Rate  Body_Temp  \\\n",
       "0  14733363    male   68   190.0    94.0      29.0       105.0       40.8   \n",
       "1  14861698  female   20   166.0    60.0      14.0        94.0       40.3   \n",
       "2  11179863    male   69   179.0    79.0       5.0        88.0       38.7   \n",
       "3  16180408  female   34   179.0    71.0      13.0       100.0       40.5   \n",
       "4  17771927  female   27   154.0    58.0      10.0        81.0       39.8   \n",
       "\n",
       "   Calories  \n",
       "0     231.0  \n",
       "1      66.0  \n",
       "2      26.0  \n",
       "3      71.0  \n",
       "4      35.0  "
      ]
     },
     "execution_count": 30,
     "metadata": {},
     "output_type": "execute_result"
    }
   ],
   "source": [
    "calories_data.head() #printing data head"
   ]
  },
  {
   "cell_type": "code",
   "execution_count": 31,
   "id": "87851dcd",
   "metadata": {
    "execution": {
     "iopub.execute_input": "2023-12-22T15:48:37.609866Z",
     "iopub.status.busy": "2023-12-22T15:48:37.609150Z",
     "iopub.status.idle": "2023-12-22T15:48:37.619139Z",
     "shell.execute_reply": "2023-12-22T15:48:37.617827Z"
    },
    "papermill": {
     "duration": 0.041333,
     "end_time": "2023-12-22T15:48:37.621839",
     "exception": false,
     "start_time": "2023-12-22T15:48:37.580506",
     "status": "completed"
    },
    "tags": []
   },
   "outputs": [],
   "source": [
    "calories_data.replace({'Gender':{'male':0,'female':1}},inplace=True) #using replace"
   ]
  },
  {
   "cell_type": "code",
   "execution_count": 32,
   "id": "eaedda62",
   "metadata": {
    "execution": {
     "iopub.execute_input": "2023-12-22T15:48:37.678747Z",
     "iopub.status.busy": "2023-12-22T15:48:37.678293Z",
     "iopub.status.idle": "2023-12-22T15:48:37.700196Z",
     "shell.execute_reply": "2023-12-22T15:48:37.697534Z"
    },
    "papermill": {
     "duration": 0.054154,
     "end_time": "2023-12-22T15:48:37.703733",
     "exception": false,
     "start_time": "2023-12-22T15:48:37.649579",
     "status": "completed"
    },
    "tags": []
   },
   "outputs": [
    {
     "data": {
      "text/html": [
       "<div>\n",
       "<style scoped>\n",
       "    .dataframe tbody tr th:only-of-type {\n",
       "        vertical-align: middle;\n",
       "    }\n",
       "\n",
       "    .dataframe tbody tr th {\n",
       "        vertical-align: top;\n",
       "    }\n",
       "\n",
       "    .dataframe thead th {\n",
       "        text-align: right;\n",
       "    }\n",
       "</style>\n",
       "<table border=\"1\" class=\"dataframe\">\n",
       "  <thead>\n",
       "    <tr style=\"text-align: right;\">\n",
       "      <th></th>\n",
       "      <th>User_ID</th>\n",
       "      <th>Gender</th>\n",
       "      <th>Age</th>\n",
       "      <th>Height</th>\n",
       "      <th>Weight</th>\n",
       "      <th>Duration</th>\n",
       "      <th>Heart_Rate</th>\n",
       "      <th>Body_Temp</th>\n",
       "      <th>Calories</th>\n",
       "    </tr>\n",
       "  </thead>\n",
       "  <tbody>\n",
       "    <tr>\n",
       "      <th>0</th>\n",
       "      <td>14733363</td>\n",
       "      <td>0</td>\n",
       "      <td>68</td>\n",
       "      <td>190.0</td>\n",
       "      <td>94.0</td>\n",
       "      <td>29.0</td>\n",
       "      <td>105.0</td>\n",
       "      <td>40.8</td>\n",
       "      <td>231.0</td>\n",
       "    </tr>\n",
       "    <tr>\n",
       "      <th>1</th>\n",
       "      <td>14861698</td>\n",
       "      <td>1</td>\n",
       "      <td>20</td>\n",
       "      <td>166.0</td>\n",
       "      <td>60.0</td>\n",
       "      <td>14.0</td>\n",
       "      <td>94.0</td>\n",
       "      <td>40.3</td>\n",
       "      <td>66.0</td>\n",
       "    </tr>\n",
       "    <tr>\n",
       "      <th>2</th>\n",
       "      <td>11179863</td>\n",
       "      <td>0</td>\n",
       "      <td>69</td>\n",
       "      <td>179.0</td>\n",
       "      <td>79.0</td>\n",
       "      <td>5.0</td>\n",
       "      <td>88.0</td>\n",
       "      <td>38.7</td>\n",
       "      <td>26.0</td>\n",
       "    </tr>\n",
       "    <tr>\n",
       "      <th>3</th>\n",
       "      <td>16180408</td>\n",
       "      <td>1</td>\n",
       "      <td>34</td>\n",
       "      <td>179.0</td>\n",
       "      <td>71.0</td>\n",
       "      <td>13.0</td>\n",
       "      <td>100.0</td>\n",
       "      <td>40.5</td>\n",
       "      <td>71.0</td>\n",
       "    </tr>\n",
       "    <tr>\n",
       "      <th>4</th>\n",
       "      <td>17771927</td>\n",
       "      <td>1</td>\n",
       "      <td>27</td>\n",
       "      <td>154.0</td>\n",
       "      <td>58.0</td>\n",
       "      <td>10.0</td>\n",
       "      <td>81.0</td>\n",
       "      <td>39.8</td>\n",
       "      <td>35.0</td>\n",
       "    </tr>\n",
       "  </tbody>\n",
       "</table>\n",
       "</div>"
      ],
      "text/plain": [
       "    User_ID Gender  Age  Height  Weight  Duration  Heart_Rate  Body_Temp  \\\n",
       "0  14733363      0   68   190.0    94.0      29.0       105.0       40.8   \n",
       "1  14861698      1   20   166.0    60.0      14.0        94.0       40.3   \n",
       "2  11179863      0   69   179.0    79.0       5.0        88.0       38.7   \n",
       "3  16180408      1   34   179.0    71.0      13.0       100.0       40.5   \n",
       "4  17771927      1   27   154.0    58.0      10.0        81.0       39.8   \n",
       "\n",
       "   Calories  \n",
       "0     231.0  \n",
       "1      66.0  \n",
       "2      26.0  \n",
       "3      71.0  \n",
       "4      35.0  "
      ]
     },
     "execution_count": 32,
     "metadata": {},
     "output_type": "execute_result"
    }
   ],
   "source": [
    "calories_data.head() #printing data head"
   ]
  },
  {
   "cell_type": "markdown",
   "id": "fcc3d2ad",
   "metadata": {
    "papermill": {
     "duration": 0.0262,
     "end_time": "2023-12-22T15:48:37.756766",
     "exception": false,
     "start_time": "2023-12-22T15:48:37.730566",
     "status": "completed"
    },
    "tags": []
   },
   "source": [
    "# Separating features and Target"
   ]
  },
  {
   "cell_type": "code",
   "execution_count": 33,
   "id": "83cf4ba1",
   "metadata": {
    "execution": {
     "iopub.execute_input": "2023-12-22T15:48:37.812279Z",
     "iopub.status.busy": "2023-12-22T15:48:37.811841Z",
     "iopub.status.idle": "2023-12-22T15:48:37.819586Z",
     "shell.execute_reply": "2023-12-22T15:48:37.818042Z"
    },
    "papermill": {
     "duration": 0.039044,
     "end_time": "2023-12-22T15:48:37.822087",
     "exception": false,
     "start_time": "2023-12-22T15:48:37.783043",
     "status": "completed"
    },
    "tags": []
   },
   "outputs": [],
   "source": [
    "#separating the data variables\n",
    "X=calories_data.drop(columns=['User_ID','Calories'],axis=1)  #storing feature data in X variable\n",
    "Y=calories_data['Calories'] #storing target data in Y variable"
   ]
  },
  {
   "cell_type": "code",
   "execution_count": 34,
   "id": "2d57856a",
   "metadata": {
    "execution": {
     "iopub.execute_input": "2023-12-22T15:48:37.877429Z",
     "iopub.status.busy": "2023-12-22T15:48:37.876975Z",
     "iopub.status.idle": "2023-12-22T15:48:37.894971Z",
     "shell.execute_reply": "2023-12-22T15:48:37.893641Z"
    },
    "papermill": {
     "duration": 0.048068,
     "end_time": "2023-12-22T15:48:37.897444",
     "exception": false,
     "start_time": "2023-12-22T15:48:37.849376",
     "status": "completed"
    },
    "tags": []
   },
   "outputs": [
    {
     "data": {
      "text/html": [
       "<div>\n",
       "<style scoped>\n",
       "    .dataframe tbody tr th:only-of-type {\n",
       "        vertical-align: middle;\n",
       "    }\n",
       "\n",
       "    .dataframe tbody tr th {\n",
       "        vertical-align: top;\n",
       "    }\n",
       "\n",
       "    .dataframe thead th {\n",
       "        text-align: right;\n",
       "    }\n",
       "</style>\n",
       "<table border=\"1\" class=\"dataframe\">\n",
       "  <thead>\n",
       "    <tr style=\"text-align: right;\">\n",
       "      <th></th>\n",
       "      <th>Gender</th>\n",
       "      <th>Age</th>\n",
       "      <th>Height</th>\n",
       "      <th>Weight</th>\n",
       "      <th>Duration</th>\n",
       "      <th>Heart_Rate</th>\n",
       "      <th>Body_Temp</th>\n",
       "    </tr>\n",
       "  </thead>\n",
       "  <tbody>\n",
       "    <tr>\n",
       "      <th>0</th>\n",
       "      <td>0</td>\n",
       "      <td>68</td>\n",
       "      <td>190.0</td>\n",
       "      <td>94.0</td>\n",
       "      <td>29.0</td>\n",
       "      <td>105.0</td>\n",
       "      <td>40.8</td>\n",
       "    </tr>\n",
       "    <tr>\n",
       "      <th>1</th>\n",
       "      <td>1</td>\n",
       "      <td>20</td>\n",
       "      <td>166.0</td>\n",
       "      <td>60.0</td>\n",
       "      <td>14.0</td>\n",
       "      <td>94.0</td>\n",
       "      <td>40.3</td>\n",
       "    </tr>\n",
       "    <tr>\n",
       "      <th>2</th>\n",
       "      <td>0</td>\n",
       "      <td>69</td>\n",
       "      <td>179.0</td>\n",
       "      <td>79.0</td>\n",
       "      <td>5.0</td>\n",
       "      <td>88.0</td>\n",
       "      <td>38.7</td>\n",
       "    </tr>\n",
       "    <tr>\n",
       "      <th>3</th>\n",
       "      <td>1</td>\n",
       "      <td>34</td>\n",
       "      <td>179.0</td>\n",
       "      <td>71.0</td>\n",
       "      <td>13.0</td>\n",
       "      <td>100.0</td>\n",
       "      <td>40.5</td>\n",
       "    </tr>\n",
       "    <tr>\n",
       "      <th>4</th>\n",
       "      <td>1</td>\n",
       "      <td>27</td>\n",
       "      <td>154.0</td>\n",
       "      <td>58.0</td>\n",
       "      <td>10.0</td>\n",
       "      <td>81.0</td>\n",
       "      <td>39.8</td>\n",
       "    </tr>\n",
       "  </tbody>\n",
       "</table>\n",
       "</div>"
      ],
      "text/plain": [
       "  Gender  Age  Height  Weight  Duration  Heart_Rate  Body_Temp\n",
       "0      0   68   190.0    94.0      29.0       105.0       40.8\n",
       "1      1   20   166.0    60.0      14.0        94.0       40.3\n",
       "2      0   69   179.0    79.0       5.0        88.0       38.7\n",
       "3      1   34   179.0    71.0      13.0       100.0       40.5\n",
       "4      1   27   154.0    58.0      10.0        81.0       39.8"
      ]
     },
     "execution_count": 34,
     "metadata": {},
     "output_type": "execute_result"
    }
   ],
   "source": [
    "X.head() #printing data head"
   ]
  },
  {
   "cell_type": "code",
   "execution_count": 35,
   "id": "049b655e",
   "metadata": {
    "execution": {
     "iopub.execute_input": "2023-12-22T15:48:37.952772Z",
     "iopub.status.busy": "2023-12-22T15:48:37.952248Z",
     "iopub.status.idle": "2023-12-22T15:48:37.963059Z",
     "shell.execute_reply": "2023-12-22T15:48:37.961827Z"
    },
    "papermill": {
     "duration": 0.041402,
     "end_time": "2023-12-22T15:48:37.965829",
     "exception": false,
     "start_time": "2023-12-22T15:48:37.924427",
     "status": "completed"
    },
    "tags": []
   },
   "outputs": [
    {
     "data": {
      "text/plain": [
       "0        231.0\n",
       "1         66.0\n",
       "2         26.0\n",
       "3         71.0\n",
       "4         35.0\n",
       "         ...  \n",
       "14995     45.0\n",
       "14996     23.0\n",
       "14997     75.0\n",
       "14998     11.0\n",
       "14999     98.0\n",
       "Name: Calories, Length: 15000, dtype: float64"
      ]
     },
     "execution_count": 35,
     "metadata": {},
     "output_type": "execute_result"
    }
   ],
   "source": [
    "Y #printing Y variable"
   ]
  },
  {
   "cell_type": "markdown",
   "id": "0f936c97",
   "metadata": {
    "papermill": {
     "duration": 0.027753,
     "end_time": "2023-12-22T15:48:38.021611",
     "exception": false,
     "start_time": "2023-12-22T15:48:37.993858",
     "status": "completed"
    },
    "tags": []
   },
   "source": [
    "# Splitting the data into training data and test data"
   ]
  },
  {
   "cell_type": "code",
   "execution_count": 36,
   "id": "b653b7c3",
   "metadata": {
    "execution": {
     "iopub.execute_input": "2023-12-22T15:48:38.077595Z",
     "iopub.status.busy": "2023-12-22T15:48:38.076340Z",
     "iopub.status.idle": "2023-12-22T15:48:38.086586Z",
     "shell.execute_reply": "2023-12-22T15:48:38.085351Z"
    },
    "papermill": {
     "duration": 0.041339,
     "end_time": "2023-12-22T15:48:38.089585",
     "exception": false,
     "start_time": "2023-12-22T15:48:38.048246",
     "status": "completed"
    },
    "tags": []
   },
   "outputs": [],
   "source": [
    "X_train,X_test,Y_train,Y_test=train_test_split(X,Y,test_size=0.2,random_state=2) #using train_test_split for splitting between test and train data"
   ]
  },
  {
   "cell_type": "code",
   "execution_count": 37,
   "id": "67f88ff8",
   "metadata": {
    "execution": {
     "iopub.execute_input": "2023-12-22T15:48:38.148287Z",
     "iopub.status.busy": "2023-12-22T15:48:38.147849Z",
     "iopub.status.idle": "2023-12-22T15:48:38.155701Z",
     "shell.execute_reply": "2023-12-22T15:48:38.153897Z"
    },
    "papermill": {
     "duration": 0.040931,
     "end_time": "2023-12-22T15:48:38.158225",
     "exception": false,
     "start_time": "2023-12-22T15:48:38.117294",
     "status": "completed"
    },
    "tags": []
   },
   "outputs": [
    {
     "name": "stdout",
     "output_type": "stream",
     "text": [
      "(12000, 7) (3000, 7) (12000,) (3000,)\n"
     ]
    }
   ],
   "source": [
    "print(X_train.shape,X_test.shape,Y_train.shape,Y_test.shape) #printing the separated data"
   ]
  },
  {
   "cell_type": "code",
   "execution_count": 38,
   "id": "239d50d5",
   "metadata": {
    "execution": {
     "iopub.execute_input": "2023-12-22T15:48:38.216870Z",
     "iopub.status.busy": "2023-12-22T15:48:38.215534Z",
     "iopub.status.idle": "2023-12-22T15:48:38.239235Z",
     "shell.execute_reply": "2023-12-22T15:48:38.237943Z"
    },
    "papermill": {
     "duration": 0.056435,
     "end_time": "2023-12-22T15:48:38.242139",
     "exception": false,
     "start_time": "2023-12-22T15:48:38.185704",
     "status": "completed"
    },
    "tags": []
   },
   "outputs": [
    {
     "data": {
      "text/html": [
       "<div>\n",
       "<style scoped>\n",
       "    .dataframe tbody tr th:only-of-type {\n",
       "        vertical-align: middle;\n",
       "    }\n",
       "\n",
       "    .dataframe tbody tr th {\n",
       "        vertical-align: top;\n",
       "    }\n",
       "\n",
       "    .dataframe thead th {\n",
       "        text-align: right;\n",
       "    }\n",
       "</style>\n",
       "<table border=\"1\" class=\"dataframe\">\n",
       "  <thead>\n",
       "    <tr style=\"text-align: right;\">\n",
       "      <th></th>\n",
       "      <th>Gender</th>\n",
       "      <th>Age</th>\n",
       "      <th>Height</th>\n",
       "      <th>Weight</th>\n",
       "      <th>Duration</th>\n",
       "      <th>Heart_Rate</th>\n",
       "      <th>Body_Temp</th>\n",
       "    </tr>\n",
       "  </thead>\n",
       "  <tbody>\n",
       "    <tr>\n",
       "      <th>1154</th>\n",
       "      <td>1</td>\n",
       "      <td>38</td>\n",
       "      <td>169.0</td>\n",
       "      <td>67.0</td>\n",
       "      <td>3.0</td>\n",
       "      <td>85.0</td>\n",
       "      <td>38.5</td>\n",
       "    </tr>\n",
       "    <tr>\n",
       "      <th>9804</th>\n",
       "      <td>0</td>\n",
       "      <td>30</td>\n",
       "      <td>194.0</td>\n",
       "      <td>96.0</td>\n",
       "      <td>9.0</td>\n",
       "      <td>91.0</td>\n",
       "      <td>39.6</td>\n",
       "    </tr>\n",
       "    <tr>\n",
       "      <th>7919</th>\n",
       "      <td>1</td>\n",
       "      <td>78</td>\n",
       "      <td>182.0</td>\n",
       "      <td>79.0</td>\n",
       "      <td>7.0</td>\n",
       "      <td>84.0</td>\n",
       "      <td>39.4</td>\n",
       "    </tr>\n",
       "    <tr>\n",
       "      <th>4854</th>\n",
       "      <td>0</td>\n",
       "      <td>50</td>\n",
       "      <td>171.0</td>\n",
       "      <td>77.0</td>\n",
       "      <td>29.0</td>\n",
       "      <td>111.0</td>\n",
       "      <td>40.8</td>\n",
       "    </tr>\n",
       "    <tr>\n",
       "      <th>5947</th>\n",
       "      <td>1</td>\n",
       "      <td>32</td>\n",
       "      <td>172.0</td>\n",
       "      <td>66.0</td>\n",
       "      <td>29.0</td>\n",
       "      <td>105.0</td>\n",
       "      <td>40.8</td>\n",
       "    </tr>\n",
       "    <tr>\n",
       "      <th>...</th>\n",
       "      <td>...</td>\n",
       "      <td>...</td>\n",
       "      <td>...</td>\n",
       "      <td>...</td>\n",
       "      <td>...</td>\n",
       "      <td>...</td>\n",
       "      <td>...</td>\n",
       "    </tr>\n",
       "    <tr>\n",
       "      <th>11798</th>\n",
       "      <td>1</td>\n",
       "      <td>49</td>\n",
       "      <td>178.0</td>\n",
       "      <td>71.0</td>\n",
       "      <td>12.0</td>\n",
       "      <td>98.0</td>\n",
       "      <td>39.9</td>\n",
       "    </tr>\n",
       "    <tr>\n",
       "      <th>13896</th>\n",
       "      <td>1</td>\n",
       "      <td>67</td>\n",
       "      <td>159.0</td>\n",
       "      <td>58.0</td>\n",
       "      <td>23.0</td>\n",
       "      <td>101.0</td>\n",
       "      <td>40.4</td>\n",
       "    </tr>\n",
       "    <tr>\n",
       "      <th>6637</th>\n",
       "      <td>1</td>\n",
       "      <td>25</td>\n",
       "      <td>167.0</td>\n",
       "      <td>64.0</td>\n",
       "      <td>20.0</td>\n",
       "      <td>100.0</td>\n",
       "      <td>40.4</td>\n",
       "    </tr>\n",
       "    <tr>\n",
       "      <th>2575</th>\n",
       "      <td>1</td>\n",
       "      <td>36</td>\n",
       "      <td>167.0</td>\n",
       "      <td>64.0</td>\n",
       "      <td>28.0</td>\n",
       "      <td>108.0</td>\n",
       "      <td>40.8</td>\n",
       "    </tr>\n",
       "    <tr>\n",
       "      <th>7336</th>\n",
       "      <td>0</td>\n",
       "      <td>30</td>\n",
       "      <td>187.0</td>\n",
       "      <td>88.0</td>\n",
       "      <td>10.0</td>\n",
       "      <td>94.0</td>\n",
       "      <td>40.2</td>\n",
       "    </tr>\n",
       "  </tbody>\n",
       "</table>\n",
       "<p>12000 rows × 7 columns</p>\n",
       "</div>"
      ],
      "text/plain": [
       "      Gender  Age  Height  Weight  Duration  Heart_Rate  Body_Temp\n",
       "1154       1   38   169.0    67.0       3.0        85.0       38.5\n",
       "9804       0   30   194.0    96.0       9.0        91.0       39.6\n",
       "7919       1   78   182.0    79.0       7.0        84.0       39.4\n",
       "4854       0   50   171.0    77.0      29.0       111.0       40.8\n",
       "5947       1   32   172.0    66.0      29.0       105.0       40.8\n",
       "...      ...  ...     ...     ...       ...         ...        ...\n",
       "11798      1   49   178.0    71.0      12.0        98.0       39.9\n",
       "13896      1   67   159.0    58.0      23.0       101.0       40.4\n",
       "6637       1   25   167.0    64.0      20.0       100.0       40.4\n",
       "2575       1   36   167.0    64.0      28.0       108.0       40.8\n",
       "7336       0   30   187.0    88.0      10.0        94.0       40.2\n",
       "\n",
       "[12000 rows x 7 columns]"
      ]
     },
     "execution_count": 38,
     "metadata": {},
     "output_type": "execute_result"
    }
   ],
   "source": [
    "X_train #printing X train data"
   ]
  },
  {
   "cell_type": "code",
   "execution_count": 39,
   "id": "a0ef3fe1",
   "metadata": {
    "execution": {
     "iopub.execute_input": "2023-12-22T15:48:38.300352Z",
     "iopub.status.busy": "2023-12-22T15:48:38.299287Z",
     "iopub.status.idle": "2023-12-22T15:48:38.305062Z",
     "shell.execute_reply": "2023-12-22T15:48:38.304152Z"
    },
    "papermill": {
     "duration": 0.037687,
     "end_time": "2023-12-22T15:48:38.307589",
     "exception": false,
     "start_time": "2023-12-22T15:48:38.269902",
     "status": "completed"
    },
    "tags": []
   },
   "outputs": [],
   "source": [
    "X_train=X_train.astype(float) #converting variables to float"
   ]
  },
  {
   "cell_type": "code",
   "execution_count": 40,
   "id": "094b827f",
   "metadata": {
    "execution": {
     "iopub.execute_input": "2023-12-22T15:48:38.366714Z",
     "iopub.status.busy": "2023-12-22T15:48:38.365895Z",
     "iopub.status.idle": "2023-12-22T15:48:38.381351Z",
     "shell.execute_reply": "2023-12-22T15:48:38.379993Z"
    },
    "papermill": {
     "duration": 0.049287,
     "end_time": "2023-12-22T15:48:38.384642",
     "exception": false,
     "start_time": "2023-12-22T15:48:38.335355",
     "status": "completed"
    },
    "tags": []
   },
   "outputs": [
    {
     "name": "stdout",
     "output_type": "stream",
     "text": [
      "<bound method NDFrame.head of        Gender   Age  Height  Weight  Duration  Heart_Rate  Body_Temp\n",
      "1154      1.0  38.0   169.0    67.0       3.0        85.0       38.5\n",
      "9804      0.0  30.0   194.0    96.0       9.0        91.0       39.6\n",
      "7919      1.0  78.0   182.0    79.0       7.0        84.0       39.4\n",
      "4854      0.0  50.0   171.0    77.0      29.0       111.0       40.8\n",
      "5947      1.0  32.0   172.0    66.0      29.0       105.0       40.8\n",
      "...       ...   ...     ...     ...       ...         ...        ...\n",
      "11798     1.0  49.0   178.0    71.0      12.0        98.0       39.9\n",
      "13896     1.0  67.0   159.0    58.0      23.0       101.0       40.4\n",
      "6637      1.0  25.0   167.0    64.0      20.0       100.0       40.4\n",
      "2575      1.0  36.0   167.0    64.0      28.0       108.0       40.8\n",
      "7336      0.0  30.0   187.0    88.0      10.0        94.0       40.2\n",
      "\n",
      "[12000 rows x 7 columns]>\n"
     ]
    }
   ],
   "source": [
    "print(X_train.head) #printing data head"
   ]
  },
  {
   "cell_type": "markdown",
   "id": "15e7da10",
   "metadata": {
    "papermill": {
     "duration": 0.029032,
     "end_time": "2023-12-22T15:48:38.442133",
     "exception": false,
     "start_time": "2023-12-22T15:48:38.413101",
     "status": "completed"
    },
    "tags": []
   },
   "source": [
    "# Model Training"
   ]
  },
  {
   "cell_type": "code",
   "execution_count": 41,
   "id": "cd9afca2",
   "metadata": {
    "execution": {
     "iopub.execute_input": "2023-12-22T15:48:38.500957Z",
     "iopub.status.busy": "2023-12-22T15:48:38.499959Z",
     "iopub.status.idle": "2023-12-22T15:48:38.504883Z",
     "shell.execute_reply": "2023-12-22T15:48:38.503760Z"
    },
    "papermill": {
     "duration": 0.037246,
     "end_time": "2023-12-22T15:48:38.507432",
     "exception": false,
     "start_time": "2023-12-22T15:48:38.470186",
     "status": "completed"
    },
    "tags": []
   },
   "outputs": [],
   "source": [
    "model=XGBRegressor() #initiating regression predictive model"
   ]
  },
  {
   "cell_type": "code",
   "execution_count": 42,
   "id": "ccb4c92b",
   "metadata": {
    "execution": {
     "iopub.execute_input": "2023-12-22T15:48:38.566642Z",
     "iopub.status.busy": "2023-12-22T15:48:38.565867Z",
     "iopub.status.idle": "2023-12-22T15:48:38.774355Z",
     "shell.execute_reply": "2023-12-22T15:48:38.773350Z"
    },
    "papermill": {
     "duration": 0.241768,
     "end_time": "2023-12-22T15:48:38.777257",
     "exception": false,
     "start_time": "2023-12-22T15:48:38.535489",
     "status": "completed"
    },
    "tags": []
   },
   "outputs": [
    {
     "data": {
      "text/html": [
       "<style>#sk-container-id-1 {color: black;}#sk-container-id-1 pre{padding: 0;}#sk-container-id-1 div.sk-toggleable {background-color: white;}#sk-container-id-1 label.sk-toggleable__label {cursor: pointer;display: block;width: 100%;margin-bottom: 0;padding: 0.3em;box-sizing: border-box;text-align: center;}#sk-container-id-1 label.sk-toggleable__label-arrow:before {content: \"▸\";float: left;margin-right: 0.25em;color: #696969;}#sk-container-id-1 label.sk-toggleable__label-arrow:hover:before {color: black;}#sk-container-id-1 div.sk-estimator:hover label.sk-toggleable__label-arrow:before {color: black;}#sk-container-id-1 div.sk-toggleable__content {max-height: 0;max-width: 0;overflow: hidden;text-align: left;background-color: #f0f8ff;}#sk-container-id-1 div.sk-toggleable__content pre {margin: 0.2em;color: black;border-radius: 0.25em;background-color: #f0f8ff;}#sk-container-id-1 input.sk-toggleable__control:checked~div.sk-toggleable__content {max-height: 200px;max-width: 100%;overflow: auto;}#sk-container-id-1 input.sk-toggleable__control:checked~label.sk-toggleable__label-arrow:before {content: \"▾\";}#sk-container-id-1 div.sk-estimator input.sk-toggleable__control:checked~label.sk-toggleable__label {background-color: #d4ebff;}#sk-container-id-1 div.sk-label input.sk-toggleable__control:checked~label.sk-toggleable__label {background-color: #d4ebff;}#sk-container-id-1 input.sk-hidden--visually {border: 0;clip: rect(1px 1px 1px 1px);clip: rect(1px, 1px, 1px, 1px);height: 1px;margin: -1px;overflow: hidden;padding: 0;position: absolute;width: 1px;}#sk-container-id-1 div.sk-estimator {font-family: monospace;background-color: #f0f8ff;border: 1px dotted black;border-radius: 0.25em;box-sizing: border-box;margin-bottom: 0.5em;}#sk-container-id-1 div.sk-estimator:hover {background-color: #d4ebff;}#sk-container-id-1 div.sk-parallel-item::after {content: \"\";width: 100%;border-bottom: 1px solid gray;flex-grow: 1;}#sk-container-id-1 div.sk-label:hover label.sk-toggleable__label {background-color: #d4ebff;}#sk-container-id-1 div.sk-serial::before {content: \"\";position: absolute;border-left: 1px solid gray;box-sizing: border-box;top: 0;bottom: 0;left: 50%;z-index: 0;}#sk-container-id-1 div.sk-serial {display: flex;flex-direction: column;align-items: center;background-color: white;padding-right: 0.2em;padding-left: 0.2em;position: relative;}#sk-container-id-1 div.sk-item {position: relative;z-index: 1;}#sk-container-id-1 div.sk-parallel {display: flex;align-items: stretch;justify-content: center;background-color: white;position: relative;}#sk-container-id-1 div.sk-item::before, #sk-container-id-1 div.sk-parallel-item::before {content: \"\";position: absolute;border-left: 1px solid gray;box-sizing: border-box;top: 0;bottom: 0;left: 50%;z-index: -1;}#sk-container-id-1 div.sk-parallel-item {display: flex;flex-direction: column;z-index: 1;position: relative;background-color: white;}#sk-container-id-1 div.sk-parallel-item:first-child::after {align-self: flex-end;width: 50%;}#sk-container-id-1 div.sk-parallel-item:last-child::after {align-self: flex-start;width: 50%;}#sk-container-id-1 div.sk-parallel-item:only-child::after {width: 0;}#sk-container-id-1 div.sk-dashed-wrapped {border: 1px dashed gray;margin: 0 0.4em 0.5em 0.4em;box-sizing: border-box;padding-bottom: 0.4em;background-color: white;}#sk-container-id-1 div.sk-label label {font-family: monospace;font-weight: bold;display: inline-block;line-height: 1.2em;}#sk-container-id-1 div.sk-label-container {text-align: center;}#sk-container-id-1 div.sk-container {/* jupyter's `normalize.less` sets `[hidden] { display: none; }` but bootstrap.min.css set `[hidden] { display: none !important; }` so we also need the `!important` here to be able to override the default hidden behavior on the sphinx rendered scikit-learn.org. See: https://github.com/scikit-learn/scikit-learn/issues/21755 */display: inline-block !important;position: relative;}#sk-container-id-1 div.sk-text-repr-fallback {display: none;}</style><div id=\"sk-container-id-1\" class=\"sk-top-container\"><div class=\"sk-text-repr-fallback\"><pre>XGBRegressor(base_score=None, booster=None, callbacks=None,\n",
       "             colsample_bylevel=None, colsample_bynode=None,\n",
       "             colsample_bytree=None, device=None, early_stopping_rounds=None,\n",
       "             enable_categorical=False, eval_metric=None, feature_types=None,\n",
       "             gamma=None, grow_policy=None, importance_type=None,\n",
       "             interaction_constraints=None, learning_rate=None, max_bin=None,\n",
       "             max_cat_threshold=None, max_cat_to_onehot=None,\n",
       "             max_delta_step=None, max_depth=None, max_leaves=None,\n",
       "             min_child_weight=None, missing=nan, monotone_constraints=None,\n",
       "             multi_strategy=None, n_estimators=None, n_jobs=None,\n",
       "             num_parallel_tree=None, random_state=None, ...)</pre><b>In a Jupyter environment, please rerun this cell to show the HTML representation or trust the notebook. <br />On GitHub, the HTML representation is unable to render, please try loading this page with nbviewer.org.</b></div><div class=\"sk-container\" hidden><div class=\"sk-item\"><div class=\"sk-estimator sk-toggleable\"><input class=\"sk-toggleable__control sk-hidden--visually\" id=\"sk-estimator-id-1\" type=\"checkbox\" checked><label for=\"sk-estimator-id-1\" class=\"sk-toggleable__label sk-toggleable__label-arrow\">XGBRegressor</label><div class=\"sk-toggleable__content\"><pre>XGBRegressor(base_score=None, booster=None, callbacks=None,\n",
       "             colsample_bylevel=None, colsample_bynode=None,\n",
       "             colsample_bytree=None, device=None, early_stopping_rounds=None,\n",
       "             enable_categorical=False, eval_metric=None, feature_types=None,\n",
       "             gamma=None, grow_policy=None, importance_type=None,\n",
       "             interaction_constraints=None, learning_rate=None, max_bin=None,\n",
       "             max_cat_threshold=None, max_cat_to_onehot=None,\n",
       "             max_delta_step=None, max_depth=None, max_leaves=None,\n",
       "             min_child_weight=None, missing=nan, monotone_constraints=None,\n",
       "             multi_strategy=None, n_estimators=None, n_jobs=None,\n",
       "             num_parallel_tree=None, random_state=None, ...)</pre></div></div></div></div></div>"
      ],
      "text/plain": [
       "XGBRegressor(base_score=None, booster=None, callbacks=None,\n",
       "             colsample_bylevel=None, colsample_bynode=None,\n",
       "             colsample_bytree=None, device=None, early_stopping_rounds=None,\n",
       "             enable_categorical=False, eval_metric=None, feature_types=None,\n",
       "             gamma=None, grow_policy=None, importance_type=None,\n",
       "             interaction_constraints=None, learning_rate=None, max_bin=None,\n",
       "             max_cat_threshold=None, max_cat_to_onehot=None,\n",
       "             max_delta_step=None, max_depth=None, max_leaves=None,\n",
       "             min_child_weight=None, missing=nan, monotone_constraints=None,\n",
       "             multi_strategy=None, n_estimators=None, n_jobs=None,\n",
       "             num_parallel_tree=None, random_state=None, ...)"
      ]
     },
     "execution_count": 42,
     "metadata": {},
     "output_type": "execute_result"
    }
   ],
   "source": [
    "model.fit(X_train,Y_train) #fitting datasets"
   ]
  },
  {
   "cell_type": "markdown",
   "id": "f26dfc96",
   "metadata": {
    "papermill": {
     "duration": 0.030049,
     "end_time": "2023-12-22T15:48:38.836389",
     "exception": false,
     "start_time": "2023-12-22T15:48:38.806340",
     "status": "completed"
    },
    "tags": []
   },
   "source": [
    "# Evaluation on test data"
   ]
  },
  {
   "cell_type": "code",
   "execution_count": 43,
   "id": "aa6ec317",
   "metadata": {
    "execution": {
     "iopub.execute_input": "2023-12-22T15:48:38.897004Z",
     "iopub.status.busy": "2023-12-22T15:48:38.895888Z",
     "iopub.status.idle": "2023-12-22T15:48:38.914174Z",
     "shell.execute_reply": "2023-12-22T15:48:38.912676Z"
    },
    "papermill": {
     "duration": 0.051388,
     "end_time": "2023-12-22T15:48:38.917395",
     "exception": false,
     "start_time": "2023-12-22T15:48:38.866007",
     "status": "completed"
    },
    "tags": []
   },
   "outputs": [],
   "source": [
    "#prediction from test data\n",
    "\n",
    "test_data_prediction=model.predict(X_test)"
   ]
  },
  {
   "cell_type": "code",
   "execution_count": 44,
   "id": "ee95376d",
   "metadata": {
    "execution": {
     "iopub.execute_input": "2023-12-22T15:48:38.979932Z",
     "iopub.status.busy": "2023-12-22T15:48:38.979529Z",
     "iopub.status.idle": "2023-12-22T15:48:38.987097Z",
     "shell.execute_reply": "2023-12-22T15:48:38.985404Z"
    },
    "papermill": {
     "duration": 0.043132,
     "end_time": "2023-12-22T15:48:38.990968",
     "exception": false,
     "start_time": "2023-12-22T15:48:38.947836",
     "status": "completed"
    },
    "tags": []
   },
   "outputs": [
    {
     "name": "stdout",
     "output_type": "stream",
     "text": [
      "[125.94     180.8491    38.636337 ... 148.35341   20.833706  91.403206]\n"
     ]
    }
   ],
   "source": [
    "print(test_data_prediction)"
   ]
  },
  {
   "cell_type": "markdown",
   "id": "66f55c63",
   "metadata": {
    "papermill": {
     "duration": 0.030128,
     "end_time": "2023-12-22T15:48:39.050665",
     "exception": false,
     "start_time": "2023-12-22T15:48:39.020537",
     "status": "completed"
    },
    "tags": []
   },
   "source": [
    "# Mean Absolute Error"
   ]
  },
  {
   "cell_type": "code",
   "execution_count": 45,
   "id": "cd8a2772",
   "metadata": {
    "execution": {
     "iopub.execute_input": "2023-12-22T15:48:39.109906Z",
     "iopub.status.busy": "2023-12-22T15:48:39.109505Z",
     "iopub.status.idle": "2023-12-22T15:48:39.116726Z",
     "shell.execute_reply": "2023-12-22T15:48:39.115557Z"
    },
    "papermill": {
     "duration": 0.039931,
     "end_time": "2023-12-22T15:48:39.119225",
     "exception": false,
     "start_time": "2023-12-22T15:48:39.079294",
     "status": "completed"
    },
    "tags": []
   },
   "outputs": [],
   "source": [
    "mean_abs_error=metrics.mean_absolute_error(Y_test,test_data_prediction) #evaluating mean absolute error for the accuracy of data"
   ]
  },
  {
   "cell_type": "code",
   "execution_count": 46,
   "id": "89fd04e8",
   "metadata": {
    "execution": {
     "iopub.execute_input": "2023-12-22T15:48:39.180173Z",
     "iopub.status.busy": "2023-12-22T15:48:39.179745Z",
     "iopub.status.idle": "2023-12-22T15:48:39.185756Z",
     "shell.execute_reply": "2023-12-22T15:48:39.184618Z"
    },
    "papermill": {
     "duration": 0.039721,
     "end_time": "2023-12-22T15:48:39.188467",
     "exception": false,
     "start_time": "2023-12-22T15:48:39.148746",
     "status": "completed"
    },
    "tags": []
   },
   "outputs": [
    {
     "name": "stdout",
     "output_type": "stream",
     "text": [
      "Mean Absolute error: 9.223079592381914\n"
     ]
    }
   ],
   "source": [
    "print(\"Mean Absolute error:\",mean_abs_error) #printing mae"
   ]
  },
  {
   "cell_type": "markdown",
   "metadata": {},
   "source": [
    "# Hyperparameter Tuning"
   ]
  },
  {
   "cell_type": "code",
   "execution_count": 47,
   "id": "d50d6ee1",
   "metadata": {
    "papermill": {
     "duration": 0.02866,
     "end_time": "2023-12-22T15:48:39.245852",
     "exception": false,
     "start_time": "2023-12-22T15:48:39.217192",
     "status": "completed"
    },
    "tags": []
   },
   "outputs": [
    {
     "data": {
      "text/html": [
       "<style>#sk-container-id-2 {color: black;}#sk-container-id-2 pre{padding: 0;}#sk-container-id-2 div.sk-toggleable {background-color: white;}#sk-container-id-2 label.sk-toggleable__label {cursor: pointer;display: block;width: 100%;margin-bottom: 0;padding: 0.3em;box-sizing: border-box;text-align: center;}#sk-container-id-2 label.sk-toggleable__label-arrow:before {content: \"▸\";float: left;margin-right: 0.25em;color: #696969;}#sk-container-id-2 label.sk-toggleable__label-arrow:hover:before {color: black;}#sk-container-id-2 div.sk-estimator:hover label.sk-toggleable__label-arrow:before {color: black;}#sk-container-id-2 div.sk-toggleable__content {max-height: 0;max-width: 0;overflow: hidden;text-align: left;background-color: #f0f8ff;}#sk-container-id-2 div.sk-toggleable__content pre {margin: 0.2em;color: black;border-radius: 0.25em;background-color: #f0f8ff;}#sk-container-id-2 input.sk-toggleable__control:checked~div.sk-toggleable__content {max-height: 200px;max-width: 100%;overflow: auto;}#sk-container-id-2 input.sk-toggleable__control:checked~label.sk-toggleable__label-arrow:before {content: \"▾\";}#sk-container-id-2 div.sk-estimator input.sk-toggleable__control:checked~label.sk-toggleable__label {background-color: #d4ebff;}#sk-container-id-2 div.sk-label input.sk-toggleable__control:checked~label.sk-toggleable__label {background-color: #d4ebff;}#sk-container-id-2 input.sk-hidden--visually {border: 0;clip: rect(1px 1px 1px 1px);clip: rect(1px, 1px, 1px, 1px);height: 1px;margin: -1px;overflow: hidden;padding: 0;position: absolute;width: 1px;}#sk-container-id-2 div.sk-estimator {font-family: monospace;background-color: #f0f8ff;border: 1px dotted black;border-radius: 0.25em;box-sizing: border-box;margin-bottom: 0.5em;}#sk-container-id-2 div.sk-estimator:hover {background-color: #d4ebff;}#sk-container-id-2 div.sk-parallel-item::after {content: \"\";width: 100%;border-bottom: 1px solid gray;flex-grow: 1;}#sk-container-id-2 div.sk-label:hover label.sk-toggleable__label {background-color: #d4ebff;}#sk-container-id-2 div.sk-serial::before {content: \"\";position: absolute;border-left: 1px solid gray;box-sizing: border-box;top: 0;bottom: 0;left: 50%;z-index: 0;}#sk-container-id-2 div.sk-serial {display: flex;flex-direction: column;align-items: center;background-color: white;padding-right: 0.2em;padding-left: 0.2em;position: relative;}#sk-container-id-2 div.sk-item {position: relative;z-index: 1;}#sk-container-id-2 div.sk-parallel {display: flex;align-items: stretch;justify-content: center;background-color: white;position: relative;}#sk-container-id-2 div.sk-item::before, #sk-container-id-2 div.sk-parallel-item::before {content: \"\";position: absolute;border-left: 1px solid gray;box-sizing: border-box;top: 0;bottom: 0;left: 50%;z-index: -1;}#sk-container-id-2 div.sk-parallel-item {display: flex;flex-direction: column;z-index: 1;position: relative;background-color: white;}#sk-container-id-2 div.sk-parallel-item:first-child::after {align-self: flex-end;width: 50%;}#sk-container-id-2 div.sk-parallel-item:last-child::after {align-self: flex-start;width: 50%;}#sk-container-id-2 div.sk-parallel-item:only-child::after {width: 0;}#sk-container-id-2 div.sk-dashed-wrapped {border: 1px dashed gray;margin: 0 0.4em 0.5em 0.4em;box-sizing: border-box;padding-bottom: 0.4em;background-color: white;}#sk-container-id-2 div.sk-label label {font-family: monospace;font-weight: bold;display: inline-block;line-height: 1.2em;}#sk-container-id-2 div.sk-label-container {text-align: center;}#sk-container-id-2 div.sk-container {/* jupyter's `normalize.less` sets `[hidden] { display: none; }` but bootstrap.min.css set `[hidden] { display: none !important; }` so we also need the `!important` here to be able to override the default hidden behavior on the sphinx rendered scikit-learn.org. See: https://github.com/scikit-learn/scikit-learn/issues/21755 */display: inline-block !important;position: relative;}#sk-container-id-2 div.sk-text-repr-fallback {display: none;}</style><div id=\"sk-container-id-2\" class=\"sk-top-container\"><div class=\"sk-text-repr-fallback\"><pre>XGBRegressor(base_score=None, booster=None, callbacks=None,\n",
       "             colsample_bylevel=None, colsample_bynode=None,\n",
       "             colsample_bytree=1.0, device=None, early_stopping_rounds=None,\n",
       "             enable_categorical=False, eval_metric=None, feature_types=None,\n",
       "             gamma=None, grow_policy=None, importance_type=None,\n",
       "             interaction_constraints=None, learning_rate=0.1, max_bin=None,\n",
       "             max_cat_threshold=None, max_cat_to_onehot=None,\n",
       "             max_delta_step=None, max_depth=5, max_leaves=None,\n",
       "             min_child_weight=None, missing=nan, monotone_constraints=None,\n",
       "             multi_strategy=None, n_estimators=200, n_jobs=None,\n",
       "             num_parallel_tree=None, random_state=None, ...)</pre><b>In a Jupyter environment, please rerun this cell to show the HTML representation or trust the notebook. <br />On GitHub, the HTML representation is unable to render, please try loading this page with nbviewer.org.</b></div><div class=\"sk-container\" hidden><div class=\"sk-item\"><div class=\"sk-estimator sk-toggleable\"><input class=\"sk-toggleable__control sk-hidden--visually\" id=\"sk-estimator-id-2\" type=\"checkbox\" checked><label for=\"sk-estimator-id-2\" class=\"sk-toggleable__label sk-toggleable__label-arrow\">XGBRegressor</label><div class=\"sk-toggleable__content\"><pre>XGBRegressor(base_score=None, booster=None, callbacks=None,\n",
       "             colsample_bylevel=None, colsample_bynode=None,\n",
       "             colsample_bytree=1.0, device=None, early_stopping_rounds=None,\n",
       "             enable_categorical=False, eval_metric=None, feature_types=None,\n",
       "             gamma=None, grow_policy=None, importance_type=None,\n",
       "             interaction_constraints=None, learning_rate=0.1, max_bin=None,\n",
       "             max_cat_threshold=None, max_cat_to_onehot=None,\n",
       "             max_delta_step=None, max_depth=5, max_leaves=None,\n",
       "             min_child_weight=None, missing=nan, monotone_constraints=None,\n",
       "             multi_strategy=None, n_estimators=200, n_jobs=None,\n",
       "             num_parallel_tree=None, random_state=None, ...)</pre></div></div></div></div></div>"
      ],
      "text/plain": [
       "XGBRegressor(base_score=None, booster=None, callbacks=None,\n",
       "             colsample_bylevel=None, colsample_bynode=None,\n",
       "             colsample_bytree=1.0, device=None, early_stopping_rounds=None,\n",
       "             enable_categorical=False, eval_metric=None, feature_types=None,\n",
       "             gamma=None, grow_policy=None, importance_type=None,\n",
       "             interaction_constraints=None, learning_rate=0.1, max_bin=None,\n",
       "             max_cat_threshold=None, max_cat_to_onehot=None,\n",
       "             max_delta_step=None, max_depth=5, max_leaves=None,\n",
       "             min_child_weight=None, missing=nan, monotone_constraints=None,\n",
       "             multi_strategy=None, n_estimators=200, n_jobs=None,\n",
       "             num_parallel_tree=None, random_state=None, ...)"
      ]
     },
     "execution_count": 47,
     "metadata": {},
     "output_type": "execute_result"
    }
   ],
   "source": [
    "#hyperparameter tuning using GridSearchCV\n",
    "param_grid = {\n",
    "    'learning_rate': [0.01, 0.1, 0.2],\n",
    "    'max_depth': [3, 4, 5],\n",
    "    'n_estimators': [50, 100, 200],\n",
    "    'subsample': [0.8, 1.0],\n",
    "    'colsample_bytree': [0.8, 1.0]\n",
    "}\n",
    "\n",
    "#instantiate XGBoost model\n",
    "model = XGBRegressor()\n",
    "\n",
    "#create GridSearchCV object\n",
    "grid_search = GridSearchCV(estimator=model, param_grid=param_grid, scoring='neg_mean_absolute_error', cv=5)\n",
    "grid_search.fit(X_train, Y_train)\n",
    "\n",
    "#get the best parameters\n",
    "best_params = grid_search.best_params_\n",
    "\n",
    "#train the model with the best parameters\n",
    "best_model = XGBRegressor(**best_params)\n",
    "best_model.fit(X_train, Y_train)"
   ]
  }
 ],
 "metadata": {
  "kaggle": {
   "accelerator": "none",
   "dataSources": [
    {
     "datasetId": 20840,
     "sourceId": 26893,
     "sourceType": "datasetVersion"
    }
   ],
   "dockerImageVersionId": 30626,
   "isGpuEnabled": false,
   "isInternetEnabled": true,
   "language": "python",
   "sourceType": "notebook"
  },
  "kernelspec": {
   "display_name": "Python 3",
   "language": "python",
   "name": "python3"
  },
  "language_info": {
   "codemirror_mode": {
    "name": "ipython",
    "version": 3
   },
   "file_extension": ".py",
   "mimetype": "text/x-python",
   "name": "python",
   "nbconvert_exporter": "python",
   "pygments_lexer": "ipython3",
   "version": "3.10.7"
  },
  "papermill": {
   "default_parameters": {},
   "duration": 17.909404,
   "end_time": "2023-12-22T15:48:40.099888",
   "environment_variables": {},
   "exception": null,
   "input_path": "__notebook__.ipynb",
   "output_path": "__notebook__.ipynb",
   "parameters": {},
   "start_time": "2023-12-22T15:48:22.190484",
   "version": "2.4.0"
  }
 },
 "nbformat": 4,
 "nbformat_minor": 5
}
